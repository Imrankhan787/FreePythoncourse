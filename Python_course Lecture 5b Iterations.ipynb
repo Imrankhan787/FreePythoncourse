{
 "cells": [
  {
   "cell_type": "markdown",
   "id": "a927c32b",
   "metadata": {},
   "source": [
    "## FREE Python Programming Course\n",
    "\n",
    "- **Classes**: 26th December 2023 to 01st January 2024\n",
    "- **Timing** : 09:30 AM --1100 AM Eastern Standard Time (EST)\n",
    "- **Medidum of Instruction**: English\n",
    "- **Mode of delivering lecture**: Zoom\n",
    "\n",
    "Please like, follow, and share my Facebook Page. It will encourage me to offer more programming courses.\n",
    "https://www.facebook.com/LearnR4Datascience"
   ]
  },
  {
   "cell_type": "markdown",
   "id": "61a1a974",
   "metadata": {},
   "source": [
    "## Iteration:\n",
    " Iteration refers to the process of **\"repeatedly executing a block of code\"** or a set of instructions. It allows you to perform a particular action multiple times, usually based on a condition or a fixed number of iterations. For instance, if you want to square all the elements of a list"
   ]
  },
  {
   "cell_type": "markdown",
   "id": "5a8a94eb",
   "metadata": {},
   "source": [
    "Please try to read the following two blogs on definite (for loop ) and indefinite iteration (while loop) from realpython\n",
    "\n",
    "https://realpython.com/python-for-loop/\n",
    "\n",
    "https://realpython.com/python-while-loop/\n"
   ]
  },
  {
   "cell_type": "code",
   "execution_count": null,
   "id": "0832eef8",
   "metadata": {},
   "outputs": [],
   "source": [
    "a = list(range(0,10))"
   ]
  },
  {
   "cell_type": "code",
   "execution_count": null,
   "id": "39fd1ccc",
   "metadata": {},
   "outputs": [],
   "source": [
    "dir(a)"
   ]
  },
  {
   "cell_type": "code",
   "execution_count": null,
   "id": "2abde67a",
   "metadata": {},
   "outputs": [],
   "source": [
    "dict = {\"name\":\"Rachana\", \"Education\": \"PhD\"}"
   ]
  },
  {
   "cell_type": "code",
   "execution_count": null,
   "id": "c54a8b1e",
   "metadata": {},
   "outputs": [],
   "source": [
    "dir(dict)"
   ]
  },
  {
   "cell_type": "markdown",
   "id": "aa6f5833",
   "metadata": {},
   "source": [
    "### Two types of iteration\n",
    "- for loop\n",
    "- while loop"
   ]
  },
  {
   "cell_type": "markdown",
   "id": "ea93198d",
   "metadata": {},
   "source": [
    "### for loop\n",
    "- When should you use **for loop?** When you know the **number of iterations** in advance. If you know how many times you have\n",
    "to apply some block of code repeatedly, then you should apply for loop.\n",
    "\n",
    "The syntax and structure of a for loop in Python\n",
    "\n",
    "for item in iterable:\n",
    "\n",
    "    # Indented Code block to be executed\n",
    "\n",
    "The **for** keyword is used to initiate the loop.\n",
    "\n",
    "**item** is a variable that represents the current element or value being iterated over. You can choose any valid variable name here.\n",
    "\n",
    "The **in** keyword is used to specify the iterable object over which the loop will iterate. An iterable can be a list, tuple, string, dictionary, or any other object that can be iterated over.\n",
    "\n",
    "The **colon (:)** at the end of the line signals the start of a new code block.\n",
    "\n",
    "The indented code block that follows is executed for each iteration of the loop. Indentation is crucial in Python as it defines the scope of the loop's code block.\n"
   ]
  },
  {
   "cell_type": "code",
   "execution_count": null,
   "id": "011fae9d",
   "metadata": {},
   "outputs": [],
   "source": [
    "## Looping over the position of elements in an iterable."
   ]
  },
  {
   "cell_type": "code",
   "execution_count": null,
   "id": "d4b90599",
   "metadata": {},
   "outputs": [],
   "source": [
    "fruits = [\"apple\", \"banana\", \"orange\"]\n",
    "\n",
    "indices = list(range(0,3,1))\n",
    "\n",
    "print(indices)\n",
    "\n",
    "\n",
    "for fruit in indices:\n",
    "    print(fruits[fruit])\n"
   ]
  },
  {
   "cell_type": "code",
   "execution_count": null,
   "id": "5590083b",
   "metadata": {},
   "outputs": [],
   "source": [
    "##Introduce looping over elements directly"
   ]
  },
  {
   "cell_type": "code",
   "execution_count": null,
   "id": "73d1ffdd",
   "metadata": {},
   "outputs": [],
   "source": [
    "fruits = [\"apple\", \"banana\", \"orange\"]\n",
    "\n",
    "for x in fruits:\n",
    "    print(x)"
   ]
  },
  {
   "cell_type": "code",
   "execution_count": null,
   "id": "0cf51eb1",
   "metadata": {},
   "outputs": [],
   "source": [
    "## Multiplication Table. Why are we using for loop here?\n",
    "\n",
    "num = 6\n",
    "\n",
    "for i in range(1, 11):  ## start is inclusive while the stop is not inclusive\n",
    "    print(num, \"x\", i, \"=\", num * i)\n"
   ]
  },
  {
   "cell_type": "code",
   "execution_count": null,
   "id": "002ab682",
   "metadata": {},
   "outputs": [],
   "source": [
    " ## Shift + Tab to display the documentation of any function in the Jupyter notebook"
   ]
  },
  {
   "cell_type": "code",
   "execution_count": null,
   "id": "19941340",
   "metadata": {},
   "outputs": [],
   "source": [
    "dir() ## discuss here also any() len()"
   ]
  },
  {
   "cell_type": "code",
   "execution_count": null,
   "id": "1a75b3a0",
   "metadata": {},
   "outputs": [],
   "source": [
    "##Summing a Range of Numbers\n",
    "start = 1\n",
    "end = 10\n",
    "\n",
    "sum_result = 0\n",
    "\n",
    "for num in range(start, end+1):\n",
    "    sum_result = sum_result + num\n",
    "\n",
    "print(\"Sum of numbers from\", start, \"to\", end, \"is\", sum_result)\n",
    "\n",
    "## How to sum all the even numbers between 0 and 100 (inclusive)?\n"
   ]
  },
  {
   "cell_type": "code",
   "execution_count": null,
   "id": "0237086b",
   "metadata": {},
   "outputs": [],
   "source": [
    "sum(range(1,11))"
   ]
  },
  {
   "cell_type": "code",
   "execution_count": null,
   "id": "f4f058c1",
   "metadata": {},
   "outputs": [],
   "source": [
    "list(reversed(range(start, end+1)))"
   ]
  },
  {
   "cell_type": "code",
   "execution_count": null,
   "id": "0f77dcd8",
   "metadata": {},
   "outputs": [],
   "source": [
    "## How to compute the average of numbers in a list?\n",
    "\n",
    "nums = [25, 10, 17, 24, 50, 10, -50]\n",
    "\n",
    "sum = 0\n",
    "\n",
    "for num in nums:\n",
    "    sum = sum + num\n",
    "print(\"The average of all numbers in list is\", \":\", sum/len(nums))\n",
    "    "
   ]
  },
  {
   "cell_type": "code",
   "execution_count": null,
   "id": "7bbe96b3",
   "metadata": {},
   "outputs": [],
   "source": [
    "nums = [25, 10, 17, 24, 50, 10, 550]\n",
    "\n",
    "## How to compute the maximum element in a list?\n",
    "max = 25\n",
    "\n",
    "for j in range(0,7):\n",
    "    if max <  nums[j]:\n",
    "        max = nums[j]\n",
    "print(max)\n",
    "    "
   ]
  },
  {
   "cell_type": "code",
   "execution_count": null,
   "id": "3e53e12e",
   "metadata": {},
   "outputs": [],
   "source": [
    "##Iterating over a Dictionary\n",
    "\n",
    "person = {\"name\": \"John\", \"age\": 30, \"city\": \"New York\"}\n",
    "\n",
    "for key, value in person.items():  ## Note the unpacking here. We can loop over multiple \n",
    "    print(key + \":\", value)\n"
   ]
  },
  {
   "cell_type": "code",
   "execution_count": null,
   "id": "9c9c997b",
   "metadata": {},
   "outputs": [],
   "source": [
    "person.items()"
   ]
  },
  {
   "cell_type": "code",
   "execution_count": null,
   "id": "da6ca9ea",
   "metadata": {},
   "outputs": [],
   "source": [
    "##Give me all the movies having ratings greater than five in the dicitionary below\n",
    "\n",
    "## Below is the dictionary with keys as movie names and ratings as values.\n",
    "movies = {\n",
    "    \"Interstellar\": 5,\n",
    "    \"Inception\": 8.8,\n",
    "    \"The Dark Knight\": 9.0,\n",
    "    \"Fight Club\": 8.8,\n",
    "    \"Blood Diamond\": 8.9\n",
    "}\n",
    "\n",
    "print(\"Movie Ratings:\")\n",
    "for movie, rating in movies.items():\n",
    "    if movies[movie] > 5:\n",
    "        print(movie, \":\", rating)\n",
    "        \n"
   ]
  },
  {
   "cell_type": "code",
   "execution_count": null,
   "id": "eb801f31",
   "metadata": {},
   "outputs": [],
   "source": [
    "my_set = {1, 2, 3, 4, 5}\n",
    "\n",
    "# Iterating over elements\n",
    "for item in my_set:\n",
    "    print(item)\n",
    "\n"
   ]
  },
  {
   "cell_type": "code",
   "execution_count": null,
   "id": "0230cde4",
   "metadata": {},
   "outputs": [],
   "source": [
    "my_set = {1, 2, 3, 4, 5}\n",
    "# Searching for specific elements\n",
    "for item in my_set:\n",
    "    if item > 3:\n",
    "        print(item)"
   ]
  },
  {
   "cell_type": "code",
   "execution_count": null,
   "id": "077c1bba",
   "metadata": {},
   "outputs": [],
   "source": [
    "my_set = {1, 2, 3, 4, 5}\n",
    "# Performing aggregate operations\n",
    "sum_of_elements = 0\n",
    "for item in my_set:\n",
    "    sum_of_elements += item\n",
    "print(\"Sum:\", sum_of_elements)"
   ]
  },
  {
   "cell_type": "code",
   "execution_count": null,
   "id": "0fd59b68",
   "metadata": {},
   "outputs": [],
   "source": [
    "# Removing or modifying elements\n",
    "my_set = {1, 2, 3, 4, 5}\n",
    "modified_set = set()\n",
    "for item in my_set:\n",
    "    if item % 2 == 0:\n",
    "        modified_set.add(item * 2)\n",
    "print(\"Modified Set:\", modified_set)"
   ]
  },
  {
   "cell_type": "markdown",
   "id": "84bb6870",
   "metadata": {},
   "source": [
    "### Nested for loops:\n",
    "Nested loops in Python are loops that are defined within the body of another loop. They allow you to perform repetitive actions with multiple levels of iteration."
   ]
  },
  {
   "cell_type": "code",
   "execution_count": null,
   "id": "dd63c9df",
   "metadata": {},
   "outputs": [],
   "source": [
    "##Let us generate all unique pairs of numbers from two separate lists:\n",
    "\n",
    "list1 = [1, 2, 3]\n",
    "list2 = [4, 5, 6]\n",
    "unique_pairs = []\n",
    "\n",
    "for num1 in list1:  # Outer loop to iterate over elements in list1\n",
    "    for num2 in list2:  # Inner loop to iterate over elements in list2\n",
    "        if num1 != num2:  # Check if numbers are not equal\n",
    "            pair = (num1, num2)\n",
    "            unique_pairs.append(pair)\n",
    "\n",
    "print(\"Unique pairs:\", unique_pairs)\n"
   ]
  },
  {
   "cell_type": "markdown",
   "id": "aed96a7c",
   "metadata": {},
   "source": [
    "### While loop\n",
    "A **while** loop in Python is used when you want to repeatedly execute a block of code **as long as a certain condition is true**. It allows you to create loops with more flexible termination conditions compared to for loops"
   ]
  },
  {
   "cell_type": "code",
   "execution_count": null,
   "id": "f0b7cac1",
   "metadata": {},
   "outputs": [],
   "source": [
    "## !pip install random \n",
    "import random\n",
    "\n",
    "random_numbers = []\n",
    "\n",
    "for k in range(15):\n",
    "    random_numbers.append(random.randint(1, 100))\n",
    "\n",
    "print(random_numbers)\n"
   ]
  },
  {
   "cell_type": "code",
   "execution_count": null,
   "id": "a27f316a",
   "metadata": {},
   "outputs": [],
   "source": [
    "not_divisible_by_5 = []\n",
    "i = 0\n",
    "while True:\n",
    "    if random_numbers[i] % 5 ==0:\n",
    "        break\n",
    "    not_divisible_by_5.append(random_numbers[i])\n",
    "    i =  i + 1\n",
    "print(not_divisible_by_5)"
   ]
  },
  {
   "cell_type": "code",
   "execution_count": null,
   "id": "9eff6bf4",
   "metadata": {},
   "outputs": [],
   "source": [
    "target_number = random.randint(1, 100)  # Generate a random number between 1 and 100\n",
    "attempts = 0\n",
    "guess = None\n",
    "\n",
    "print(\"Welcome to the Guessing Game!\")\n",
    "print(\"Try to guess the target number between 1 and 100.\")\n",
    "\n",
    "while guess != target_number:\n",
    "    guess = int(input(\"Enter your guess: \"))\n",
    "    attempts += 1\n",
    "\n",
    "    if guess < target_number:\n",
    "        print(\"Too low! Try a higher number.\")\n",
    "    elif guess > target_number:\n",
    "        print(\"Too high! Try a lower number.\")\n",
    "    else:\n",
    "        print(\"Congratulations! You guessed the number correctly!\")\n",
    "        print(\"It took you\", attempts, \"attempts.\")\n"
   ]
  },
  {
   "cell_type": "markdown",
   "id": "2bc06c30",
   "metadata": {},
   "source": [
    "### Loop Control Statements:\n",
    "•\t**break statement**: Terminates the loop prematurely.\n",
    "\n",
    "•\t**continue statement**: Skips the rest of the current iteration and moves to the next one.\n",
    "\n",
    "•\t**pass statement**: Placeholder statement used when no action is required.\n"
   ]
  },
  {
   "cell_type": "code",
   "execution_count": null,
   "id": "c7654ab0",
   "metadata": {},
   "outputs": [],
   "source": [
    "for i in range(1, 11):\n",
    "    if i < 3:\n",
    "        continue\n",
    "\n",
    "    print(i)\n",
    "\n",
    "    if i >= 5:\n",
    "        break"
   ]
  },
  {
   "cell_type": "code",
   "execution_count": null,
   "id": "99b0b3e6",
   "metadata": {},
   "outputs": [],
   "source": [
    "# Find the first occurrence of a negative number in a list\n",
    "numbers = [2, 4, -5, 6, 8, -3, 10]\n",
    "\n",
    "for num in reversed(numbers):\n",
    "    if num < 0:\n",
    "        print(\"Negative number found:\", num)\n",
    "        break\n"
   ]
  },
  {
   "cell_type": "code",
   "execution_count": null,
   "id": "740c382e",
   "metadata": {},
   "outputs": [],
   "source": [
    "# Print all even numbers between 1 and 10, except for the number 6\n",
    "for i in range(1, 11):\n",
    "    if i == 6:\n",
    "        continue\n",
    "    if i % 2 == 0:\n",
    "        print(i)"
   ]
  },
  {
   "cell_type": "code",
   "execution_count": null,
   "id": "d66e9909",
   "metadata": {},
   "outputs": [],
   "source": [
    "x = 9\n",
    "\n",
    "if x < 10:\n",
    "    pass\n",
    "else:\n",
    "    print(\"x is greater than or equal to 10\")\n",
    "    \n",
    "## The pass statement is useful in situations where you need to satisfy the syntax requirements but don't have any specific code to add \n",
    "## at that moment. It allows you to defer the implementation of certain sections of your code without causing any syntax errors."
   ]
  },
  {
   "cell_type": "code",
   "execution_count": null,
   "id": "c586b110",
   "metadata": {},
   "outputs": [],
   "source": [
    "## Itertools \n",
    "## Try to go this weblink at home \n",
    "## https://docs.python.org/3/library/itertools.html"
   ]
  },
  {
   "cell_type": "markdown",
   "id": "8a555b55",
   "metadata": {},
   "source": [
    "The **enumerate()** function in Python is used to iterate over a sequence (such as a list, tuple, or string) while simultaneously accessing both the **index and the value** of each element."
   ]
  },
  {
   "cell_type": "code",
   "execution_count": null,
   "id": "437b789b",
   "metadata": {},
   "outputs": [],
   "source": [
    "another_fruits = ['apple', 'banana', 'orange', \"Avacado\"]\n",
    "\n",
    "for index, fruit in enumerate(another_fruits, start = 1):  ## did you noticed unpacking\n",
    "    print('Index:', index, 'Fruit:', fruit)\n"
   ]
  },
  {
   "cell_type": "markdown",
   "id": "6838c91c",
   "metadata": {},
   "source": [
    "The **zip()** function in Python is used to *combine multiple iterables* (such as lists, tuples, or strings) into a single iterator. It pairs up the corresponding elements from each iterable, creating tuples of those elements."
   ]
  },
  {
   "cell_type": "code",
   "execution_count": null,
   "id": "2f67dff2",
   "metadata": {},
   "outputs": [],
   "source": [
    "fruits = ['apple', 'banana', 'orange']\n",
    "prices = [0.5, 0.25, 0.75]\n",
    "quantities = [ 100, 50, 25]\n",
    "\n",
    "for fruit, price, quantity in zip(fruits, prices, quantities):\n",
    "    print('Fruit:', fruit, 'Price:', price, \"quanity:\", quantity)\n"
   ]
  },
  {
   "cell_type": "code",
   "execution_count": null,
   "id": "bce96aed",
   "metadata": {},
   "outputs": [],
   "source": [
    "list(zip(fruits, prices, quantities))"
   ]
  },
  {
   "cell_type": "markdown",
   "id": "2df66a1c",
   "metadata": {},
   "source": [
    "## Attempt quizzes at home\n",
    "\n",
    "Please also attempt these two quiz from realpython\n",
    "\n",
    "https://realpython.com/quizzes/python-while-loop/\n",
    "\n",
    "https://realpython.com/quizzes/python-for-loop/\n",
    "\n",
    "https://realpython.com/quizzes/python-dictionary-iteration/\n"
   ]
  },
  {
   "cell_type": "markdown",
   "id": "8bafa719",
   "metadata": {},
   "source": [
    "## Concise way of performing iterations: Comprehensions"
   ]
  },
  {
   "cell_type": "markdown",
   "id": "7ed32eaa",
   "metadata": {},
   "source": [
    "- syntax of comprehensions\n",
    "\n",
    " **new_list = [expression for member in iterable]**\n",
    "\n",
    "- synax of comprehensions with if conditional (for filtering (removing) out unwanted elements)\n",
    "\n",
    "**new_list1 = [expression for member in iterable (if conditional)]**\n"
   ]
  },
  {
   "cell_type": "code",
   "execution_count": null,
   "id": "184bc91e",
   "metadata": {},
   "outputs": [],
   "source": [
    "numbers = [1, 2, 3, 4, 5]\n",
    "\n",
    "squared_numbers = [x**2 for x in numbers]\n",
    "\n",
    "print(squared_numbers)"
   ]
  },
  {
   "cell_type": "markdown",
   "id": "5ef4e924",
   "metadata": {},
   "source": [
    "### Set comprehensions\n",
    "\n",
    "A set comprehension is almost exactly the same as a list comprehension in Python. **The difference is that set comprehensions make sure the output contains no duplicates**. You can create a set comprehension by using *curly braces* instead of brackets"
   ]
  },
  {
   "cell_type": "code",
   "execution_count": null,
   "id": "b5c8cb9f",
   "metadata": {},
   "outputs": [],
   "source": [
    "numbers = [1, 2, 3, 4, 5, 5, 4, 3, 2, 1]\n",
    "\n",
    "unique_numbers = {x for x in numbers}\n",
    "\n",
    "print(unique_numbers)  ## What type of data structure unique numbers is?"
   ]
  },
  {
   "cell_type": "code",
   "execution_count": null,
   "id": "44c17c6a",
   "metadata": {},
   "outputs": [],
   "source": [
    "quote = \"life, uh, finds a way\"\n",
    "unique_vowels = {i for i in quote if i in 'aeiou'}\n",
    "unique_vowels\n",
    "{'a', 'e', 'u', 'i'}"
   ]
  },
  {
   "cell_type": "code",
   "execution_count": null,
   "id": "552a0ce1",
   "metadata": {},
   "outputs": [],
   "source": [
    "### dictionary comprehension"
   ]
  },
  {
   "cell_type": "code",
   "execution_count": null,
   "id": "fa0a5141",
   "metadata": {},
   "outputs": [],
   "source": [
    "squares = {i: i * i for i in range(10)} ## Why is it a dictionary comprehension not the set comprehension?\n",
    "squares"
   ]
  },
  {
   "cell_type": "code",
   "execution_count": null,
   "id": "7c4742f9",
   "metadata": {},
   "outputs": [],
   "source": [
    "## Nested dictionary comprehensions"
   ]
  },
  {
   "cell_type": "code",
   "execution_count": null,
   "id": "2bf01643",
   "metadata": {},
   "outputs": [],
   "source": [
    "cities = ['Austin', 'Washington', 'Topeka', 'Richmond', 'Charlotte']\n",
    "temps = {city: [0 for i in range(7)] for city in cities}\n",
    "print(temps)"
   ]
  },
  {
   "cell_type": "code",
   "execution_count": null,
   "id": "afacbfef",
   "metadata": {},
   "outputs": [],
   "source": [
    "nums = [5, 6, 3, 9, 11]\n",
    "[(i,i*i) for i in nums]"
   ]
  }
 ],
 "metadata": {
  "kernelspec": {
   "display_name": "Python 3 (ipykernel)",
   "language": "python",
   "name": "python3"
  },
  "language_info": {
   "codemirror_mode": {
    "name": "ipython",
    "version": 3
   },
   "file_extension": ".py",
   "mimetype": "text/x-python",
   "name": "python",
   "nbconvert_exporter": "python",
   "pygments_lexer": "ipython3",
   "version": "3.10.11"
  }
 },
 "nbformat": 4,
 "nbformat_minor": 5
}
