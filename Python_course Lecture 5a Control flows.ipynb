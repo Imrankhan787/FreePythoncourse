{
 "cells": [
  {
   "cell_type": "markdown",
   "id": "6a34f5d8",
   "metadata": {
    "deletable": false,
    "editable": false
   },
   "source": [
    "## FREE Python Programming Course\n",
    "\n",
    "- **Classes**: 26th December 2023 to 01st January 2024\n",
    "- **Timing** : 09:30 AM --1100 AM Eastern Standard Time (EST)\n",
    "- **Medidum of Instruction**: English\n",
    "- **Mode of delivering lecture**: Zoom\n",
    "\n",
    "Please like, follow, and share my Facebook Page. It will encourage me to offer more programming courses.\n",
    "https://www.facebook.com/LearnR4Datascience"
   ]
  },
  {
   "cell_type": "markdown",
   "id": "624bb37f",
   "metadata": {},
   "source": [
    "Let us bring some logic in the code. **If statements** allows your code to execute different blocks of code based on whether a condition is true or false."
   ]
  },
  {
   "cell_type": "code",
   "execution_count": 3,
   "id": "f7ad1b81",
   "metadata": {},
   "outputs": [
    {
     "name": "stdout",
     "output_type": "stream",
     "text": [
      "I dont belong to if statement\n"
     ]
    }
   ],
   "source": [
    "num = -10\n",
    "\n",
    "if num > 0:  #If it is positive, we will print a message saying \"The number is positive. What if the expression is false?\n",
    "    print(\"The number is positive.\")\n",
    "    print(\"I am confused\")\n",
    "print(\"I dont belong to if statement\")"
   ]
  },
  {
   "cell_type": "markdown",
   "id": "84aadacc",
   "metadata": {},
   "source": [
    "you can have multiple statements within the block that will be executed if the condition is true"
   ]
  },
  {
   "cell_type": "code",
   "execution_count": 4,
   "id": "54955227",
   "metadata": {},
   "outputs": [
    {
     "name": "stdout",
     "output_type": "stream",
     "text": [
      "The number is positive.\n",
      "It is greater than zero.\n",
      "Keep up the good work!\n",
      "I am statement but dont belong to the above 'if block of code' because I have less indentation\n"
     ]
    }
   ],
   "source": [
    "num = 10\n",
    "\n",
    "if num > 0:       # How many statements will be executed in the block of code? And why?\n",
    "    print(\"The number is positive.\")\n",
    "    print(\"It is greater than zero.\")\n",
    "    print(\"Keep up the good work!\")\n",
    "\n",
    "print(\"I am statement but dont belong to the above 'if block of code' because I have less indentation\")"
   ]
  },
  {
   "cell_type": "markdown",
   "id": "101e0d8b",
   "metadata": {},
   "source": [
    "Below is an example from realPython blog on conditional Statements https://realpython.com/python-conditional-statements/\n",
    "    "
   ]
  },
  {
   "cell_type": "code",
   "execution_count": null,
   "id": "7654f562",
   "metadata": {},
   "outputs": [],
   "source": [
    "# Does line execute?                        Yes    No\n",
    "#                                           ---    --\n",
    "if 'baux' in ['foo', 'bar', 'baz']:        \n",
    "    print('Outer condition is true')      \n",
    "\n",
    "    if 10 > 20:                           \n",
    "        print('Inner condition 1')                \n",
    "\n",
    "    print('Between inner conditions')     \n",
    "\n",
    "    if 10 < 20:                           \n",
    "        print('Inner condition 2')        \n",
    "\n",
    "    print('End of outer condition')       \n",
    "print('After outer condition')            "
   ]
  },
  {
   "cell_type": "markdown",
   "id": "c1822cb4",
   "metadata": {},
   "source": [
    "### Temperature conversion\n",
    "Let us try to understand if-elif statements.\n",
    "\n",
    "Let's say we want to convert temperatures between Celsius and Fahrenheit based on user input. We can use if-elif statements to determine the conversion formula and perform the conversion accordingly"
   ]
  },
  {
   "cell_type": "code",
   "execution_count": 8,
   "id": "6c5fd4fa",
   "metadata": {},
   "outputs": [
    {
     "name": "stdout",
     "output_type": "stream",
     "text": [
      "Enter the temperature: 37\n",
      "Enter the unit (C/F): C\n",
      "The converted temperature is: 98.6 Fahrenheit\n"
     ]
    }
   ],
   "source": [
    "temperature = float(input(\"Enter the temperature: \"))\n",
    "unit = input(\"Enter the unit (C/F): \")\n",
    "\n",
    "if unit == \"C\":\n",
    "    converted_temp = (temperature * 9/5) + 32\n",
    "    converted_unit = \"Fahrenheit\"\n",
    "elif unit == \"F\":\n",
    "    converted_temp = (temperature - 32) * 5/9\n",
    "    converted_unit = \"Celsius\"\n",
    "else:\n",
    "    print(\"Invalid unit!\")\n",
    "\n",
    "if unit in [\"C\", \"F\"]:\n",
    "    print(f\"The converted temperature is: {converted_temp} {converted_unit}\")\n"
   ]
  },
  {
   "cell_type": "code",
   "execution_count": 9,
   "id": "693d26a4",
   "metadata": {},
   "outputs": [
    {
     "name": "stdout",
     "output_type": "stream",
     "text": [
      "Password is weak.\n"
     ]
    }
   ],
   "source": [
    "### Combine multiple conditions in an if statement\n",
    "\n",
    "password = \"mypassword123\"\n",
    "\n",
    "if len(password) >= 8 and any(c.isupper() for c in password) and any(c.isdigit() for c in password):\n",
    "    print(\"Password is strong.\")\n",
    "else:\n",
    "    print(\"Password is weak.\")\n"
   ]
  },
  {
   "cell_type": "markdown",
   "id": "055b2251",
   "metadata": {},
   "source": [
    " The any() function is a built-in Python function that takes an iterable (such as a list, tuple, or generator expression) as an argument and returns True if at least one element in the iterable is True. Otherwise, it returns False"
   ]
  },
  {
   "cell_type": "code",
   "execution_count": 11,
   "id": "fc5db43e",
   "metadata": {},
   "outputs": [
    {
     "name": "stdout",
     "output_type": "stream",
     "text": [
      "The grade is: D\n"
     ]
    }
   ],
   "source": [
    "## Grade calculation:\n",
    "\n",
    "marks = 50\n",
    "\n",
    "if marks > 90:\n",
    "    grade = \"A\"\n",
    "elif marks >= 80 and marks <= 90:\n",
    "    grade = \"B\"\n",
    "elif marks >= 70 and marks < 80:\n",
    "    grade = \"C\"\n",
    "else:\n",
    "    grade = \"D\"\n",
    "\n",
    "print(f\"The grade is: {grade}\")\n"
   ]
  },
  {
   "cell_type": "code",
   "execution_count": 13,
   "id": "deb8ba7d",
   "metadata": {},
   "outputs": [
    {
     "name": "stdout",
     "output_type": "stream",
     "text": [
      "The price category for the ticket is: Adult\n"
     ]
    }
   ],
   "source": [
    "### Ticket Pricing\n",
    "age = 20\n",
    "\n",
    "\n",
    "if age <= 12:\n",
    "    price_category = \"Child\"\n",
    "elif age >= 65:\n",
    "    price_category = \"Senior\"\n",
    "else:\n",
    "    price_category = \"Adult\"\n",
    "\n",
    "print(f\"The price category for the ticket is: {price_category}\")\n"
   ]
  },
  {
   "cell_type": "code",
   "execution_count": 14,
   "id": "8cde60c5",
   "metadata": {},
   "outputs": [
    {
     "name": "stdout",
     "output_type": "stream",
     "text": [
      "The grade is: B\n"
     ]
    }
   ],
   "source": [
    "## Nested if else statements\n",
    "## Explain this program having if-else statement\n",
    "marks = 50\n",
    "perfect_attendance = True\n",
    "\n",
    "if marks > 90:\n",
    "    grade = \"A\"\n",
    "elif marks >= 80:\n",
    "    grade = \"B\"\n",
    "elif marks >= 70:\n",
    "    grade = \"C\"\n",
    "else:\n",
    "    if perfect_attendance:\n",
    "        grade = \"D\"\n",
    "    else:\n",
    "        grade = \"F\"\n",
    "\n",
    "print(f\"The grade is: {grade}\")\n",
    "\n"
   ]
  },
  {
   "cell_type": "code",
   "execution_count": null,
   "id": "6e516f5f",
   "metadata": {},
   "outputs": [],
   "source": [
    "## Product discount based on quantity\n",
    "## Explain this program\n",
    "quantity = 40\n",
    "price_per_unit = 10\n",
    "\n",
    "if quantity < 10:\n",
    "    total_price = quantity * price_per_unit\n",
    "else:\n",
    "    if quantity <= 50:\n",
    "        total_price = quantity * price_per_unit * 0.9  # 10% discount\n",
    "    else:\n",
    "        total_price = quantity * price_per_unit * 0.8  # 20% discount\n",
    "\n",
    "print(f\"The total price is: {total_price}\")\n"
   ]
  }
 ],
 "metadata": {
  "celltoolbar": "Edit Metadata",
  "kernelspec": {
   "display_name": "Python 3 (ipykernel)",
   "language": "python",
   "name": "python3"
  },
  "language_info": {
   "codemirror_mode": {
    "name": "ipython",
    "version": 3
   },
   "file_extension": ".py",
   "mimetype": "text/x-python",
   "name": "python",
   "nbconvert_exporter": "python",
   "pygments_lexer": "ipython3",
   "version": "3.10.11"
  }
 },
 "nbformat": 4,
 "nbformat_minor": 5
}
