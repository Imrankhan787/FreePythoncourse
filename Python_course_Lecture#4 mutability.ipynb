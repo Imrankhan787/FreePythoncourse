{
 "cells": [
  {
   "cell_type": "markdown",
   "id": "7a261538",
   "metadata": {},
   "source": [
    "## FREE Python Programming Course\n",
    "\n",
    "- **Classes**: 26th December 2023 to 01st January 2024\n",
    "- **Timing** : 09:30 AM --1100 AM Eastern Standard Time (EST)\n",
    "- **Medidum of Instruction**: English\n",
    "- **Mode of delivering lecture**: Zoom\n",
    "\n",
    "Please like, follow, and share my Facebook Page. It will encourage me to offer more programming courses.\n",
    "https://www.facebook.com/LearnR4Datascience"
   ]
  },
  {
   "cell_type": "markdown",
   "id": "a9eae832",
   "metadata": {},
   "source": [
    "## Equality versus Identity operator:\n",
    "\n",
    "Identity operator \"is\" checks whether the two objects share the same memory adress.\n",
    "\n",
    "Equality operator \"==\" checks whether the equality of the values of the two objects irrespective of their locations in memory.\n",
    "\n",
    "id() function gives you memory location of the object."
   ]
  },
  {
   "cell_type": "markdown",
   "id": "a6f89e5f",
   "metadata": {},
   "source": [
    "## Immutability of data types versus immutability of data structures"
   ]
  },
  {
   "cell_type": "markdown",
   "id": "fe54b361",
   "metadata": {},
   "source": [
    "Immutability of data structure is much more tricky than immutability of basic data types. Recall int,str, float and boolean are\n",
    "basic data types.\n",
    "\n",
    "\n",
    "**Immutable data types**\n",
    "\n",
    "When we try to modify the value of a immutable data type, we create a new object at the different memory address.\n",
    "If the original object is immutable, the value and memory address remains the same even when we try to modify it. In simpler words, immutable objects cannot be modified after creation. If you want to modify them you have to create a new object."
   ]
  },
  {
   "cell_type": "code",
   "execution_count": null,
   "id": "dd4cb167",
   "metadata": {},
   "outputs": [],
   "source": [
    "a = 2500\n",
    "print(id(a))\n",
    "a += 1\n",
    "print(id(a))"
   ]
  },
  {
   "cell_type": "code",
   "execution_count": null,
   "id": "6fb4c82d",
   "metadata": {},
   "outputs": [],
   "source": [
    "full_name = \"Gilbert\"\n",
    "print(id(full_name))\n",
    "full_name += \" Strang\"\n",
    "print(id(full_name))\n"
   ]
  },
  {
   "cell_type": "code",
   "execution_count": null,
   "id": "30c6b8ed",
   "metadata": {},
   "outputs": [],
   "source": [
    "full_name"
   ]
  },
  {
   "cell_type": "code",
   "execution_count": null,
   "id": "99946587",
   "metadata": {},
   "outputs": [],
   "source": [
    "small_list = [0, 1, 2]\n",
    "print(id(small_list))\n",
    "small_list = small_list + [4]\n",
    "print(id(small_list))"
   ]
  },
  {
   "cell_type": "code",
   "execution_count": null,
   "id": "9ea5486c",
   "metadata": {},
   "outputs": [],
   "source": [
    "t = (1, 2, 3)\n",
    "print(id(t))\n",
    "t += (4,)\n",
    "print(id(t))"
   ]
  },
  {
   "cell_type": "markdown",
   "id": "bb8cd037",
   "metadata": {},
   "source": [
    "### Simple example\n",
    "\n",
    "Tuples, like most Python collections—lists, dicts, sets, etc.—are containers: they hold\n",
    "references to objects.\n",
    "\n",
    "Tuples t1 and t2 are two distinct objects in the memory and all their elements including list occupy distinct memory locations. \n",
    "\n",
    "We know tuples are immutable but what would you say about a tuple having one or more mutable elements. For instance, tuple with a list. Can you modify the list (which is mutable) inside the tuple (immutable data structure)? Answer is \"yes\". So what does the immutability of tuple means? The immutability of tuple simply means that you cannot modify the identity of any element in a tuple even though you can modify the values of a mutable data structure inside tuple.\n",
    "\n",
    "In short, it is possible to modify the **values** of mutable data structure in immutable data structure. However, the **identity** (memory address) of the data structure (mutable or immutable) contained in tuple will never change.\n",
    "\n",
    "\n"
   ]
  },
  {
   "cell_type": "code",
   "execution_count": null,
   "id": "070626c1",
   "metadata": {},
   "outputs": [],
   "source": [
    "t1 = (10000, 50000, [30, 40]) \n",
    "t2 = (10000, 50000, [30, 40]) "
   ]
  },
  {
   "cell_type": "code",
   "execution_count": null,
   "id": "8ac212f5",
   "metadata": {},
   "outputs": [],
   "source": [
    "print(id(t1[0]), id(t1[1]), id(t1[2]))"
   ]
  },
  {
   "cell_type": "code",
   "execution_count": null,
   "id": "fd80f86d",
   "metadata": {},
   "outputs": [],
   "source": [
    "print(id(t2[0]), id(t2[1]), id(t2[2]))"
   ]
  },
  {
   "cell_type": "code",
   "execution_count": null,
   "id": "f8dd7ccb",
   "metadata": {},
   "outputs": [],
   "source": [
    "t1 == t2 "
   ]
  },
  {
   "cell_type": "code",
   "execution_count": null,
   "id": "7bf54009",
   "metadata": {},
   "outputs": [],
   "source": [
    "id(t1) == id(t2)"
   ]
  },
  {
   "cell_type": "code",
   "execution_count": null,
   "id": "8394dab2",
   "metadata": {},
   "outputs": [],
   "source": [
    "id(t1[-1]) == id(t2[-1])"
   ]
  },
  {
   "cell_type": "code",
   "execution_count": null,
   "id": "2c07832a",
   "metadata": {},
   "outputs": [],
   "source": [
    "id(t2[-1])"
   ]
  },
  {
   "cell_type": "code",
   "execution_count": null,
   "id": "6d91cf8c",
   "metadata": {},
   "outputs": [],
   "source": [
    "t1[-1].append(99)"
   ]
  },
  {
   "cell_type": "code",
   "execution_count": null,
   "id": "c1ff9e14",
   "metadata": {},
   "outputs": [],
   "source": [
    "t1"
   ]
  },
  {
   "cell_type": "code",
   "execution_count": null,
   "id": "99fbcfe2",
   "metadata": {},
   "outputs": [],
   "source": [
    "t2"
   ]
  },
  {
   "cell_type": "code",
   "execution_count": null,
   "id": "cea3ee9d",
   "metadata": {},
   "outputs": [],
   "source": [
    "id(t1[-1])"
   ]
  },
  {
   "cell_type": "code",
   "execution_count": null,
   "id": "8ddc3e6a",
   "metadata": {},
   "outputs": [],
   "source": [
    "id(t1[-1])"
   ]
  },
  {
   "cell_type": "code",
   "execution_count": null,
   "id": "fef947bb",
   "metadata": {},
   "outputs": [],
   "source": [
    "id(t1[-1])"
   ]
  },
  {
   "cell_type": "code",
   "execution_count": null,
   "id": "f3b66da8",
   "metadata": {},
   "outputs": [],
   "source": [
    " t1 == t2 "
   ]
  },
  {
   "cell_type": "markdown",
   "id": "6dcd5bdd",
   "metadata": {},
   "source": [
    "### What happens if we modify the mutable data structure that the two immutable data structures share?"
   ]
  },
  {
   "cell_type": "code",
   "execution_count": null,
   "id": "c3e6c19c",
   "metadata": {},
   "outputs": [],
   "source": [
    "a = [30,40]"
   ]
  },
  {
   "cell_type": "code",
   "execution_count": null,
   "id": "f67a0ce3",
   "metadata": {},
   "outputs": [],
   "source": [
    "t1 = (1, 2, a) \n",
    "t2 = (1, 2, a)"
   ]
  },
  {
   "cell_type": "code",
   "execution_count": null,
   "id": "7862f1f1",
   "metadata": {},
   "outputs": [],
   "source": [
    "id(t1[2])"
   ]
  },
  {
   "cell_type": "code",
   "execution_count": null,
   "id": "c2815d2c",
   "metadata": {},
   "outputs": [],
   "source": [
    "id(t2[2])"
   ]
  },
  {
   "cell_type": "code",
   "execution_count": null,
   "id": "28a20281",
   "metadata": {},
   "outputs": [],
   "source": [
    "t2[2].append(5555)"
   ]
  },
  {
   "cell_type": "code",
   "execution_count": null,
   "id": "0d85c677",
   "metadata": {},
   "outputs": [],
   "source": [
    "t2"
   ]
  },
  {
   "cell_type": "code",
   "execution_count": null,
   "id": "8336707c",
   "metadata": {},
   "outputs": [],
   "source": [
    "t1"
   ]
  },
  {
   "cell_type": "code",
   "execution_count": null,
   "id": "0a360729",
   "metadata": {},
   "outputs": [],
   "source": [
    "id(t1)== id(t2)"
   ]
  },
  {
   "cell_type": "code",
   "execution_count": null,
   "id": "661861f2",
   "metadata": {},
   "outputs": [],
   "source": [
    "id(t1[2])"
   ]
  },
  {
   "cell_type": "code",
   "execution_count": null,
   "id": "1dd501f5",
   "metadata": {},
   "outputs": [],
   "source": [
    "id(t2[2])"
   ]
  },
  {
   "cell_type": "markdown",
   "id": "133af6e5",
   "metadata": {},
   "source": [
    "## What is copy of data structure? \n",
    "- **Definition**: A copy of original datastructure is an equal data structure  with different id.\n",
    "- What happens when we use \"==\" and \"is\" operators on original data structure and a copied data structure?"
   ]
  },
  {
   "cell_type": "markdown",
   "id": "44c8118c",
   "metadata": {},
   "source": [
    "There are two types of copies you can make: \n",
    "- shallow copies\n",
    "- deep copies"
   ]
  },
  {
   "cell_type": "markdown",
   "id": "688fc989",
   "metadata": {},
   "source": [
    "**Shallow Copies**:\n",
    "\n",
    "A shallow copy creates a new object, but it references the same elements as the original object. In other words, the copy is a new container, but the elements inside the container are still references to the same objects as in the original container. If any of the elements are mutable, changes made to the mutable objects will be reflected in both the original and copied containers."
   ]
  },
  {
   "cell_type": "markdown",
   "id": "7b860a8d",
   "metadata": {},
   "source": [
    "If we modify the mutable object inside the shallow copy, what will happen to the same mutable object inside the original data structure? Modified or stayed the same?"
   ]
  },
  {
   "cell_type": "code",
   "execution_count": 1,
   "id": "a74fa600",
   "metadata": {},
   "outputs": [],
   "source": [
    "l1 = [3, [55, 44], (7, 8, 9)]\n",
    "l2 = list(l1)  ## this is how you make shallow copy"
   ]
  },
  {
   "cell_type": "code",
   "execution_count": 2,
   "id": "275bb1bf",
   "metadata": {},
   "outputs": [
    {
     "data": {
      "text/plain": [
       "[3, [55, 44], (7, 8, 9)]"
      ]
     },
     "execution_count": 2,
     "metadata": {},
     "output_type": "execute_result"
    }
   ],
   "source": [
    "l2"
   ]
  },
  {
   "cell_type": "code",
   "execution_count": null,
   "id": "db59c253",
   "metadata": {},
   "outputs": [],
   "source": [
    "id(l1)"
   ]
  },
  {
   "cell_type": "code",
   "execution_count": null,
   "id": "005d9f46",
   "metadata": {},
   "outputs": [],
   "source": [
    "id(l2)"
   ]
  },
  {
   "cell_type": "code",
   "execution_count": 4,
   "id": "c3c4ac73",
   "metadata": {},
   "outputs": [
    {
     "data": {
      "text/plain": [
       "False"
      ]
     },
     "execution_count": 4,
     "metadata": {},
     "output_type": "execute_result"
    }
   ],
   "source": [
    "l1 is l2"
   ]
  },
  {
   "cell_type": "markdown",
   "id": "5cc3e97f",
   "metadata": {},
   "source": [
    "Check whether the elements of lists l1 and l2 share the same memory address or different."
   ]
  },
  {
   "cell_type": "code",
   "execution_count": 5,
   "id": "abff518b",
   "metadata": {},
   "outputs": [
    {
     "data": {
      "text/plain": [
       "1427360907568"
      ]
     },
     "execution_count": 5,
     "metadata": {},
     "output_type": "execute_result"
    }
   ],
   "source": [
    "id(l1[0])"
   ]
  },
  {
   "cell_type": "code",
   "execution_count": 6,
   "id": "257a9f35",
   "metadata": {},
   "outputs": [
    {
     "data": {
      "text/plain": [
       "1427360907568"
      ]
     },
     "execution_count": 6,
     "metadata": {},
     "output_type": "execute_result"
    }
   ],
   "source": [
    "id(l2[0])"
   ]
  },
  {
   "cell_type": "code",
   "execution_count": null,
   "id": "3892b1f9",
   "metadata": {},
   "outputs": [],
   "source": [
    "id(l1[0]) == id(l2[0])"
   ]
  },
  {
   "cell_type": "code",
   "execution_count": null,
   "id": "9c0dd528",
   "metadata": {},
   "outputs": [],
   "source": [
    "id(l1[1])== id(l2[1])"
   ]
  },
  {
   "cell_type": "code",
   "execution_count": null,
   "id": "68a82524",
   "metadata": {},
   "outputs": [],
   "source": [
    "l1[2] is l2[2]"
   ]
  },
  {
   "cell_type": "markdown",
   "id": "473bce7d",
   "metadata": {},
   "source": [
    "First check, is l2 copy of l1?"
   ]
  },
  {
   "cell_type": "code",
   "execution_count": null,
   "id": "7f780c2c",
   "metadata": {},
   "outputs": [],
   "source": [
    "print(l1 == l2, id(l1) == id(l2))"
   ]
  },
  {
   "cell_type": "code",
   "execution_count": null,
   "id": "5dc6e0d8",
   "metadata": {},
   "outputs": [],
   "source": [
    "## How to check if it is shallow copy or deep copy? Try to modify the nested list in a list."
   ]
  },
  {
   "cell_type": "code",
   "execution_count": 7,
   "id": "14bf10cd",
   "metadata": {},
   "outputs": [],
   "source": [
    "l1[1].append(5555) ## append an element in a nested list."
   ]
  },
  {
   "cell_type": "code",
   "execution_count": 8,
   "id": "e64bd591",
   "metadata": {},
   "outputs": [
    {
     "data": {
      "text/plain": [
       "[3, [55, 44, 5555], (7, 8, 9)]"
      ]
     },
     "execution_count": 8,
     "metadata": {},
     "output_type": "execute_result"
    }
   ],
   "source": [
    "l1"
   ]
  },
  {
   "cell_type": "code",
   "execution_count": 9,
   "id": "56eb9e31",
   "metadata": {},
   "outputs": [
    {
     "data": {
      "text/plain": [
       "[3, [55, 44, 5555], (7, 8, 9)]"
      ]
     },
     "execution_count": 9,
     "metadata": {},
     "output_type": "execute_result"
    }
   ],
   "source": [
    "l2"
   ]
  },
  {
   "cell_type": "markdown",
   "id": "9f1c903c",
   "metadata": {},
   "source": [
    "Using the **constructor** or **[:]** produces a shallow copy (i.e., the outermost container is duplicated, but the copy is filled with references to the same items held by the original container). This saves memory and causes no problems if all the items are immutable. But if there are mutable items, this may lead to unpleasant surprises."
   ]
  },
  {
   "cell_type": "markdown",
   "id": "26c4cd8b",
   "metadata": {},
   "source": [
    "**Deep Copies**:\n",
    "\n",
    "A deep copy creates a completely independent copy of the original object and all the objects it contains. The copy is a new object with its own separate memory allocation. Changes made to the objects in the deep copy will not affect the original object or any other copies.\n",
    "In Python, you can create a deep copy using the deepcopy() function from the copy module. We will not do this in the introductory course."
   ]
  },
  {
   "cell_type": "code",
   "execution_count": 10,
   "id": "b6a68d13",
   "metadata": {},
   "outputs": [],
   "source": [
    "import copy"
   ]
  },
  {
   "cell_type": "code",
   "execution_count": 11,
   "id": "6d8d8d7a",
   "metadata": {},
   "outputs": [],
   "source": [
    "original_list = [1, 2, [3, 4]]"
   ]
  },
  {
   "cell_type": "code",
   "execution_count": 12,
   "id": "66a1644f",
   "metadata": {},
   "outputs": [],
   "source": [
    "deep_copy_list = copy.deepcopy(original_list)"
   ]
  },
  {
   "cell_type": "code",
   "execution_count": 13,
   "id": "f1d5a0cf",
   "metadata": {},
   "outputs": [
    {
     "data": {
      "text/plain": [
       "[1, 2, [3, 4]]"
      ]
     },
     "execution_count": 13,
     "metadata": {},
     "output_type": "execute_result"
    }
   ],
   "source": [
    "original_list"
   ]
  },
  {
   "cell_type": "code",
   "execution_count": 14,
   "id": "b10e4e3c",
   "metadata": {},
   "outputs": [
    {
     "data": {
      "text/plain": [
       "[1, 2, [3, 4]]"
      ]
     },
     "execution_count": 14,
     "metadata": {},
     "output_type": "execute_result"
    }
   ],
   "source": [
    "deep_copy_list"
   ]
  },
  {
   "cell_type": "code",
   "execution_count": 15,
   "id": "94c594e2",
   "metadata": {},
   "outputs": [
    {
     "data": {
      "text/plain": [
       "1427441306944"
      ]
     },
     "execution_count": 15,
     "metadata": {},
     "output_type": "execute_result"
    }
   ],
   "source": [
    "id(original_list[2])"
   ]
  },
  {
   "cell_type": "code",
   "execution_count": 16,
   "id": "0b4200b5",
   "metadata": {},
   "outputs": [
    {
     "data": {
      "text/plain": [
       "1427441189504"
      ]
     },
     "execution_count": 16,
     "metadata": {},
     "output_type": "execute_result"
    }
   ],
   "source": [
    "id(deep_copy_list[2])"
   ]
  },
  {
   "cell_type": "code",
   "execution_count": null,
   "id": "a31bebfa",
   "metadata": {},
   "outputs": [],
   "source": [
    "print(original_list == deep_copy_list, id(original_list) == id(deep_copy_list))"
   ]
  },
  {
   "cell_type": "markdown",
   "id": "0e710653",
   "metadata": {},
   "source": [
    "With a deep copy, modifying the mutable object inside the deep copy will not affect the original. The two copies are truly independent."
   ]
  },
  {
   "cell_type": "code",
   "execution_count": 17,
   "id": "185e6c16",
   "metadata": {},
   "outputs": [
    {
     "name": "stdout",
     "output_type": "stream",
     "text": [
      "[1, 2, [3, 4]]\n",
      "[1, 2, [3, 4, 5]]\n"
     ]
    }
   ],
   "source": [
    "deep_copy_list[2].append(5)\n",
    "print(original_list)          \n",
    "print(deep_copy_list)"
   ]
  }
 ],
 "metadata": {
  "kernelspec": {
   "display_name": "Python 3 (ipykernel)",
   "language": "python",
   "name": "python3"
  },
  "language_info": {
   "codemirror_mode": {
    "name": "ipython",
    "version": 3
   },
   "file_extension": ".py",
   "mimetype": "text/x-python",
   "name": "python",
   "nbconvert_exporter": "python",
   "pygments_lexer": "ipython3",
   "version": "3.10.11"
  }
 },
 "nbformat": 4,
 "nbformat_minor": 5
}
