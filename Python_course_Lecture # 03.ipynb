{
 "cells": [
  {
   "cell_type": "markdown",
   "id": "b35fdf03",
   "metadata": {},
   "source": [
    "## FREE Python Programming Course\n",
    "\n",
    "- **Classes**: 26th December 2023 to 01st January 2024\n",
    "- **Timing** : 09:30 AM --1100 AM Eastern Standard Time (EST)\n",
    "- **Medidum of Instruction**: English\n",
    "- **Mode of delivering lecture**: Zoom\n",
    "\n",
    "Please like, follow, and share my Facebook Page. It will encourage me to offer more programming courses.\n",
    "https://www.facebook.com/LearnR4Datascience"
   ]
  },
  {
   "cell_type": "markdown",
   "id": "4627ee37",
   "metadata": {},
   "source": [
    "## Indexing and slicing"
   ]
  },
  {
   "cell_type": "markdown",
   "id": "83443d5b",
   "metadata": {},
   "source": [
    "How to access and manipulate elements within sequences like strings, lists and tuples in python?\n",
    "\n",
    "**Indexing** and **slicing** are common operations used to access and manipulate elements within sequences like strings, lists, and tuples in Python. **Indexing** refers to retrieving a specific element at a particular position within the sequence, while **slicing** allows you to extract a portion of the sequence.\n"
   ]
  },
  {
   "cell_type": "markdown",
   "id": "0fb66e56",
   "metadata": {},
   "source": [
    "**Indexing**:\n",
    "In Python, indexing starts at **0**, so the **first element** of a sequence is at index 0, the second element is at index 1, and so on. You can use square brackets **[ ]** with the index value to access individual elements."
   ]
  },
  {
   "cell_type": "markdown",
   "id": "d428e52d",
   "metadata": {},
   "source": [
    "**Note**: Slicing or Indexing does not affect the original data structure. With only slicing or indexing, we are accessing the elements in the original data structure."
   ]
  },
  {
   "cell_type": "code",
   "execution_count": 1,
   "id": "b8293668",
   "metadata": {},
   "outputs": [
    {
     "name": "stdout",
     "output_type": "stream",
     "text": [
      "apple\n",
      "cherry\n"
     ]
    }
   ],
   "source": [
    "my_list = ['apple', 'banana', 'cherry', 'date']\n",
    "\n",
    "print(my_list[0])   # What is the output?\n",
    "print(my_list[2])   # What is the output?"
   ]
  },
  {
   "cell_type": "markdown",
   "id": "ac031a46",
   "metadata": {},
   "source": [
    "**Slicing**:\n",
    "Slicing allows you to extract **a portion of a sequence** by specifying a start index (inclusive) and end index (exclusive). The general syntax for slicing is **sequence[start:end]**. The start index is *inclusive*, and the end index is *exclusive*, meaning the element at the end index is not included in the slice.\n",
    "\n",
    "You can also specify a **step value** while slicing using the syntax **sequence[start:end:step]**. The step value indicates the increment between the indices of the slice."
   ]
  },
  {
   "cell_type": "code",
   "execution_count": 4,
   "id": "22cf76d8",
   "metadata": {},
   "outputs": [
    {
     "name": "stdout",
     "output_type": "stream",
     "text": [
      "Hlo\n",
      "World!\n",
      "Hello\n",
      "World\n"
     ]
    }
   ],
   "source": [
    "my_string = 'Hello, World!'\n",
    "\n",
    "print(my_string[0:5:2])    # Output?\n",
    "print(my_string[7::1])     # Output?\n",
    "print(my_string[:5:1])     # Output?\n",
    "print(my_string[7:-1:1])   # Output?: start index is positive and the end index is negative (exlcusive)\n"
   ]
  },
  {
   "cell_type": "code",
   "execution_count": 8,
   "id": "1f5a5226",
   "metadata": {},
   "outputs": [],
   "source": [
    "string_with_spaces = \"     space\""
   ]
  },
  {
   "cell_type": "code",
   "execution_count": 11,
   "id": "751a675f",
   "metadata": {},
   "outputs": [
    {
     "data": {
      "text/plain": [
       "'space'"
      ]
     },
     "execution_count": 11,
     "metadata": {},
     "output_type": "execute_result"
    }
   ],
   "source": [
    "string_with_spaces[5:]"
   ]
  },
  {
   "cell_type": "code",
   "execution_count": 13,
   "id": "ee817619",
   "metadata": {},
   "outputs": [
    {
     "name": "stdout",
     "output_type": "stream",
     "text": [
      "[1, 4, 7]\n"
     ]
    }
   ],
   "source": [
    "numbers = [0, 1, 2, 3, 4, 5, 6, 7, 8, 9]\n",
    "\n",
    "print(numbers[1:8:3])   # Output? What will be the output data structure? What will be the output?\n"
   ]
  },
  {
   "cell_type": "markdown",
   "id": "8fee9eb8",
   "metadata": {},
   "source": [
    "Negative indexing and slicing\n",
    "In Python, negative indexing allows you to access elements in a sequence by counting from the end of the sequence. The last element has an index of -1, the second-to-last element has an index of -2, and so on."
   ]
  },
  {
   "cell_type": "code",
   "execution_count": 14,
   "id": "85781f37",
   "metadata": {},
   "outputs": [
    {
     "name": "stdout",
     "output_type": "stream",
     "text": [
      "9\n",
      "7\n"
     ]
    }
   ],
   "source": [
    "print(numbers[-1])   # Output? Is it indexing or slicing? What will be an output?\n",
    "print(numbers[-3])   # Output? Is it indexing or slicing? what will be an output?\n"
   ]
  },
  {
   "cell_type": "code",
   "execution_count": 15,
   "id": "76e868ff",
   "metadata": {},
   "outputs": [
    {
     "name": "stdout",
     "output_type": "stream",
     "text": [
      "Hello,\n",
      "World!\n",
      " World\n"
     ]
    }
   ],
   "source": [
    "my_string = 'Hello, World!'\n",
    "\n",
    "print(my_string[:-7])   # Output?: Is it indexing or slicing? What will be the output?\n",
    "print(my_string[-6:])   # Output:  Is it indexing or slicing? what will be the output?\n",
    "print(my_string[-7:-1])  # Output: Is it indexing or slicing what will be the output?\n"
   ]
  },
  {
   "cell_type": "code",
   "execution_count": 16,
   "id": "cf9b668d",
   "metadata": {},
   "outputs": [
    {
     "name": "stdout",
     "output_type": "stream",
     "text": [
      "el,W\n",
      " ol\n",
      "do,\n"
     ]
    }
   ],
   "source": [
    "my_string = 'Hello, World!'\n",
    "\n",
    "print(my_string[1:9:2])     # Output:?\n",
    "print(my_string[-7:-1:2])   # Output:?\n",
    "print(my_string[-2:-9:-3])     # Output:?\n",
    "\n"
   ]
  },
  {
   "cell_type": "code",
   "execution_count": 17,
   "id": "873b7fa3",
   "metadata": {},
   "outputs": [
    {
     "name": "stdout",
     "output_type": "stream",
     "text": [
      "yhnPo\n",
      "rm\n"
     ]
    }
   ],
   "source": [
    "my_string1 = 'Python Programming'\n",
    "\n",
    "print(my_string1[1:10:2])      # Output?\n",
    "print(my_string1[-7:-1:3])     # Output?\n"
   ]
  },
  {
   "cell_type": "code",
   "execution_count": 18,
   "id": "8bddcc21",
   "metadata": {},
   "outputs": [
    {
     "name": "stdout",
     "output_type": "stream",
     "text": [
      "[5, 4, 3, 2, 1]\n",
      "!dlroW ,olleH\n"
     ]
    }
   ],
   "source": [
    "## How to reverse a string or list using indexing with negative step sign?\n",
    "\n",
    "my_list1 = [1, 2, 3, 4, 5]\n",
    "\n",
    "reversed_list = my_list1[::-1] ## What does the double colon means in slicing?\n",
    "\n",
    "print(reversed_list)\n",
    "\n",
    "my_string3 = \"Hello, World!\"\n",
    "\n",
    "reversed_string = my_string3[::-1]\n",
    "\n",
    "print(reversed_string)\n"
   ]
  },
  {
   "cell_type": "markdown",
   "id": "d59493a7",
   "metadata": {},
   "source": [
    "## Output data structure from indexing and slicing\n",
    "The output data structure from indexing and slicing depends on the type of sequence you are working with. Here are the output data structures for indexing and slicing operations on common Python sequence types:\n",
    "\n",
    "Indexing and Slicing on Strings:\n",
    "Indexing a single character returns a \"string\".\n",
    "Slicing a portion of a string returns a \"new string\".\n",
    "\n",
    "Indexing and Slicing on Lists:\n",
    "Indexing a single element returns the datatype/data structure at that index.\n",
    "Slicing a portion of a list returns a new list containing the selected elements.\n",
    "\n",
    "Indexing and Slicing on Tuples:\n",
    "Indexing a single element returns the data type/data structure at that index.\n",
    "Slicing a portion of a tuple returns a new tuple containing the selected elements"
   ]
  },
  {
   "cell_type": "code",
   "execution_count": 19,
   "id": "5e627949",
   "metadata": {},
   "outputs": [
    {
     "data": {
      "text/plain": [
       "2"
      ]
     },
     "execution_count": 19,
     "metadata": {},
     "output_type": "execute_result"
    }
   ],
   "source": [
    "## What is an output data structure from the indexing and slicing?\n",
    "\n",
    "my_list1[1]  ## indexing gives you back the data type/ data structure of the element\n"
   ]
  },
  {
   "cell_type": "code",
   "execution_count": null,
   "id": "65ab0de2",
   "metadata": {},
   "outputs": [],
   "source": [
    "# Indexing and Slicing on Strings\n",
    "my_string5 = \"Hello, World!\"\n",
    "char = my_string5[0]  # Output: 'H' (string)\n",
    "substring = my_string5[7:12]  # Output: 'World' (string)\n",
    "print(type(char))\n",
    "print(type(substring))"
   ]
  },
  {
   "cell_type": "code",
   "execution_count": 20,
   "id": "90aacf30",
   "metadata": {},
   "outputs": [
    {
     "name": "stdout",
     "output_type": "stream",
     "text": [
      "3 [2, 3, 4]\n",
      "<class 'int'>\n",
      "<class 'list'>\n"
     ]
    }
   ],
   "source": [
    "# Indexing and Slicing on Lists\n",
    "my_list5 = [1, 2, 3, 4, 5, 6]\n",
    "element = my_list5[2]  # Output: 3 (int)\n",
    "sublist = my_list5[1:4]  # Output: [2, 3, 4] (list)\n",
    "print(element, sublist)\n",
    "print(type(element))\n",
    "print(type(sublist))   "
   ]
  },
  {
   "cell_type": "code",
   "execution_count": 26,
   "id": "06b2dc12",
   "metadata": {},
   "outputs": [],
   "source": [
    "ls1 = [5, 10, 25, 50]"
   ]
  },
  {
   "cell_type": "code",
   "execution_count": 27,
   "id": "78686fc2",
   "metadata": {},
   "outputs": [],
   "source": [
    "ls1.insert(2, -99)"
   ]
  },
  {
   "cell_type": "code",
   "execution_count": 28,
   "id": "620f274e",
   "metadata": {},
   "outputs": [
    {
     "data": {
      "text/plain": [
       "[5, 10, -99, 25, 50]"
      ]
     },
     "execution_count": 28,
     "metadata": {},
     "output_type": "execute_result"
    }
   ],
   "source": [
    "ls1"
   ]
  },
  {
   "cell_type": "code",
   "execution_count": 21,
   "id": "e8333aca",
   "metadata": {},
   "outputs": [
    {
     "data": {
      "text/plain": [
       "0.6"
      ]
     },
     "execution_count": 21,
     "metadata": {},
     "output_type": "execute_result"
    }
   ],
   "source": [
    "element/5   ## you can perform operations depending on the output data structure. You can perform all arthimetic operations on the \n",
    "##object of int class. Output data structure is so important"
   ]
  },
  {
   "cell_type": "code",
   "execution_count": 22,
   "id": "f100f1f6",
   "metadata": {},
   "outputs": [
    {
     "ename": "TypeError",
     "evalue": "unsupported operand type(s) for /: 'list' and 'int'",
     "output_type": "error",
     "traceback": [
      "\u001b[1;31m---------------------------------------------------------------------------\u001b[0m",
      "\u001b[1;31mTypeError\u001b[0m                                 Traceback (most recent call last)",
      "Cell \u001b[1;32mIn[22], line 1\u001b[0m\n\u001b[1;32m----> 1\u001b[0m \u001b[43msublist\u001b[49m\u001b[38;5;241;43m/\u001b[39;49m\u001b[38;5;241;43m10\u001b[39;49m  \u001b[38;5;66;03m## You cannot perform arthimetic operatons directly on the object of class list even if it contains numeric element.\u001b[39;00m\n\u001b[0;32m      2\u001b[0m \u001b[38;5;66;03m## output datastructure is so important\u001b[39;00m\n",
      "\u001b[1;31mTypeError\u001b[0m: unsupported operand type(s) for /: 'list' and 'int'"
     ]
    }
   ],
   "source": [
    "sublist/10  ## You cannot perform arthimetic operatons directly on the object of class list even if it contains numeric element.\n",
    "## output datastructure is so important"
   ]
  },
  {
   "cell_type": "code",
   "execution_count": null,
   "id": "65b04353",
   "metadata": {},
   "outputs": [],
   "source": [
    "# Indexing and Slicing on Tuples\n",
    "my_tuple = (10, 20, 30, 40 , 50)\n",
    "element = my_tuple[3:4]  # output type?\n",
    "subtuple = my_tuple[1:4]  # Output type?\n",
    "print(element)\n",
    "print(subtuple)"
   ]
  },
  {
   "cell_type": "markdown",
   "id": "e6a7e535",
   "metadata": {},
   "source": [
    "## Indexing and slicing with nested data structures\n"
   ]
  },
  {
   "cell_type": "code",
   "execution_count": 32,
   "id": "aed1e005",
   "metadata": {},
   "outputs": [
    {
     "name": "stdout",
     "output_type": "stream",
     "text": [
      "[7, 8, 9]\n",
      "2\n",
      "<class 'list'>\n",
      "<class 'int'>\n"
     ]
    }
   ],
   "source": [
    "nested_list = [[1, 2, 3], [4, 5, 6], [7, 8, 9]]\n",
    "\n",
    "element2 = nested_list[2][0:]   ## What is the output?\n",
    "\n",
    "\n",
    "sublist2 = nested_list[0][1]   ## What will be the output?\n",
    "\n",
    "print(element2)\n",
    "print(sublist2)\n",
    "\n",
    "print(type(element2))\n",
    "print(type(sublist2))\n"
   ]
  },
  {
   "cell_type": "code",
   "execution_count": 33,
   "id": "06d86e89",
   "metadata": {},
   "outputs": [
    {
     "name": "stdout",
     "output_type": "stream",
     "text": [
      "<class 'list'>\n"
     ]
    }
   ],
   "source": [
    "print(type(nested_list[0])) ## Output type? We are indexing but we will get the list. So be careful in nested data structures."
   ]
  },
  {
   "cell_type": "code",
   "execution_count": null,
   "id": "5b101e95",
   "metadata": {},
   "outputs": [],
   "source": [
    "print(nested_list[0][1] )             ## What is output \n",
    "print(type(nested_list[0][1])) ## what is its data type/data structure?"
   ]
  },
  {
   "cell_type": "code",
   "execution_count": null,
   "id": "b0ba9f77",
   "metadata": {},
   "outputs": [],
   "source": [
    "print(nested_list[0][1:])   ## What is the output?\n",
    "print(type(nested_list[0][1:])) ## what is its data type?"
   ]
  },
  {
   "cell_type": "code",
   "execution_count": 34,
   "id": "da5eb508",
   "metadata": {},
   "outputs": [
    {
     "name": "stdout",
     "output_type": "stream",
     "text": [
      "[7, 8, 9]\n",
      "(6, 5, 4)\n"
     ]
    }
   ],
   "source": [
    "nested_tuple = ((1, 2, 3), (4, 5, 6), [7, 8, 9])\n",
    "\n",
    "element3 = nested_tuple[2][0:]  ##output and output data type/data structure\n",
    "\n",
    "\n",
    "subtuple3 = nested_tuple[1][::-1] ##output and output data type/data structure\n",
    "\n",
    "print(element3)\n",
    "print(subtuple3)\n"
   ]
  },
  {
   "cell_type": "markdown",
   "id": "70e5ad67",
   "metadata": {},
   "source": [
    "## Acessing multiple elements from data structure with no fixed step size"
   ]
  },
  {
   "cell_type": "code",
   "execution_count": 35,
   "id": "6e9e896e",
   "metadata": {},
   "outputs": [
    {
     "name": "stdout",
     "output_type": "stream",
     "text": [
      "[7, 9, 5]\n"
     ]
    }
   ],
   "source": [
    "another_list = [7, 2, 3, 9, 5, 6, 7, 8, 9]\n",
    "\n",
    "indices = [0,3,4] # creating a list of indices\n",
    "\n",
    "selected_elements = [another_list[i] for i in indices] ## List comprehensions\n",
    "\n",
    "\n",
    "print(selected_elements)"
   ]
  },
  {
   "cell_type": "code",
   "execution_count": 37,
   "id": "d732963a",
   "metadata": {},
   "outputs": [],
   "source": [
    "another_list = [7, 2, 3, 9, 5, 6, 7, 8, 9]\n",
    "\n",
    "even_number = [i for i in another_list if i%2==0]"
   ]
  },
  {
   "cell_type": "code",
   "execution_count": 38,
   "id": "fcf42f98",
   "metadata": {},
   "outputs": [
    {
     "data": {
      "text/plain": [
       "[2, 6, 8]"
      ]
     },
     "execution_count": 38,
     "metadata": {},
     "output_type": "execute_result"
    }
   ],
   "source": [
    "even_number"
   ]
  },
  {
   "cell_type": "code",
   "execution_count": 36,
   "id": "c703209b",
   "metadata": {},
   "outputs": [
    {
     "name": "stdout",
     "output_type": "stream",
     "text": [
      "[7, 9, 5]\n"
     ]
    }
   ],
   "source": [
    "## Alternative to list comprehensions\n",
    "ls = []\n",
    "for i in indices:\n",
    "    ls.append(another_list[i])\n",
    "print(ls)"
   ]
  },
  {
   "cell_type": "code",
   "execution_count": null,
   "id": "41e05064",
   "metadata": {},
   "outputs": [],
   "source": [
    "## Accessing multiple elements from the tuple and storing it in list using list comprehension\n",
    "my_tuple1 = ('apple', 'banana', 'cherry', 'date', 'elderberry')\n",
    "\n",
    "indices_from_tuple = [1, 3]\n",
    "selected_elements_tuple = [my_tuple1[i] for i in indices_from_tuple]\n",
    "\n",
    "print(selected_elements_tuple)\n",
    "\n"
   ]
  },
  {
   "cell_type": "markdown",
   "id": "f8abd048",
   "metadata": {},
   "source": [
    "## Accessing elements from Python's dictionary"
   ]
  },
  {
   "cell_type": "markdown",
   "id": "5572d649",
   "metadata": {},
   "source": [
    "In Python, dictionaries are **unordered collections** of **key-value pairs**. Since dictionaries are not indexed by numerical indices like lists or tuples, indexing and slicing operations are not directly applicable. However, you can access individual elements or perform specific operations on dictionaries using **keys**."
   ]
  },
  {
   "cell_type": "code",
   "execution_count": 3,
   "id": "0930315b",
   "metadata": {},
   "outputs": [
    {
     "name": "stdout",
     "output_type": "stream",
     "text": [
      "2\n"
     ]
    }
   ],
   "source": [
    "##Accessing Individual Elements\n",
    "my_dict = {'a': 1, 'b': 2, 'c': 3, 'd': 4}\n",
    "\n",
    "value = my_dict['b']\n",
    "# Output: 2\n",
    "# Accesses the value associated with the key 'b' in the dictionary.\n",
    "\n",
    "print(value)"
   ]
  },
  {
   "cell_type": "code",
   "execution_count": 4,
   "id": "41a595ae",
   "metadata": {},
   "outputs": [
    {
     "name": "stdout",
     "output_type": "stream",
     "text": [
      "a 1\n",
      "b 2\n",
      "c 3\n",
      "d 4\n"
     ]
    }
   ],
   "source": [
    "##Iterating over Dictionary Keys\n",
    "my_dict = {'a': 1, 'b': 2, 'c': 3, 'd': 4}\n",
    "\n",
    "for key in my_dict:\n",
    "    print(key, my_dict[key])\n",
    "\n"
   ]
  },
  {
   "cell_type": "code",
   "execution_count": 5,
   "id": "0f43470f",
   "metadata": {},
   "outputs": [
    {
     "name": "stdout",
     "output_type": "stream",
     "text": [
      "['a', 'b', 'c', 'd'] [1, 2, 3, 4]\n"
     ]
    }
   ],
   "source": [
    "##Extracting Keys or Values\n",
    "my_dict5 = {'a': 1, 'b': 2, 'c': 3, 'd': 4}\n",
    "\n",
    "keys = list(my_dict5.keys())\n",
    "# Output: ['a', 'b', 'c', 'd']\n",
    "# Retrieves a list of all keys in the dictionary.\n",
    "\n",
    "values = list(my_dict5.values())\n",
    "# Output: [1, 2, 3, 4]\n",
    "# Retrieves a list of all values in the dictionary.\n",
    "\n",
    "print(keys, values)"
   ]
  },
  {
   "cell_type": "code",
   "execution_count": 9,
   "id": "69802559",
   "metadata": {},
   "outputs": [
    {
     "name": "stdout",
     "output_type": "stream",
     "text": [
      "[1, 3]\n"
     ]
    }
   ],
   "source": [
    "##Accessing multiple elements from Python's dicitonary\n",
    "my_dict = {'a': 1, 'b': 2, 'c': 3, 'd': 4}\n",
    "\n",
    "keys = ['a', 'c']  ## create a list of keys and then use list comprehensions\n",
    "selected_values = [my_dict[key] for key in keys]\n",
    "\n",
    "print(selected_values)\n",
    "\n"
   ]
  },
  {
   "cell_type": "code",
   "execution_count": null,
   "id": "f7da61fd",
   "metadata": {},
   "outputs": [],
   "source": [
    "##Indexing and Slicing on Nested Dictionaries\n",
    "## Dictionaries nested within the dictionary\n",
    "nested_dict = {\n",
    "    'outer_key1': {'inner_key1': 1, 'inner_key2': 2},\n",
    "    'outer_key2': {'inner_key3': 3, 'inner_key4': 4},\n",
    "}\n",
    "\n",
    "element_from_dict = nested_dict['outer_key1']['inner_key2']\n",
    "# Output: 2\n",
    "# Accesses the value associated with 'inner_key2' in the dictionary nested under 'outer_key1'.\n",
    "\n",
    "subdict = nested_dict['outer_key2']\n",
    "# Output: {'inner_key3': 3, 'inner_key4': 4}\n",
    "# Retrieves the dictionary nested under 'outer_key2'.\n",
    "\n",
    "print(type(element_from_dict))\n",
    "\n",
    "print(type(subdict))\n"
   ]
  },
  {
   "cell_type": "code",
   "execution_count": null,
   "id": "eaefa9a9",
   "metadata": {},
   "outputs": [],
   "source": [
    "## List comprehension is a very powerful slicing method\n",
    "## You can combine list comprhension with boolean. You don't need to know the index of the elements with boolean slicing.\n",
    "## Very very powerful method to create subsequences\n",
    "\n",
    "my_list = [-5, 8, -20, -50, 100, 150, 1, 2, 3, 64, 67, 69]\n",
    "\n",
    "##all the odd numbers\n",
    "\n",
    "odd_numbers = [ i for i in my_list if i % 2 ==1]\n",
    "print(odd_numbers)\n",
    "\n",
    "even_numbers = [ j for j in my_list if j % 2 == 0]\n",
    "print(even_numbers)\n",
    "\n",
    "greater_than_zero = [ k for k in my_list if k > 0]\n",
    "print(greater_than_zero)"
   ]
  },
  {
   "cell_type": "code",
   "execution_count": 1,
   "id": "aa526ddd",
   "metadata": {},
   "outputs": [],
   "source": [
    "my_list = [-5, 8, -20, -50, 100, 150, 1, 2, 3, 64, 67, 69]\n",
    "\n",
    "odd_numbers = [ i for i in my_list if i % 2 ]"
   ]
  },
  {
   "cell_type": "code",
   "execution_count": 10,
   "id": "e1bd1a34",
   "metadata": {},
   "outputs": [
    {
     "data": {
      "text/plain": [
       "['JUSTIN', 'SARAH', 'MCKENZIE']"
      ]
     },
     "execution_count": 10,
     "metadata": {},
     "output_type": "execute_result"
    }
   ],
   "source": [
    "names = [\"John\", \"Justin\", \"Andy\",\"Sarah\",\"Mckenzie\"]\n",
    "\n",
    "## How to get all the names having more than four characters\n",
    "[name.upper() for name in names if len(name)> 4 ]"
   ]
  }
 ],
 "metadata": {
  "kernelspec": {
   "display_name": "Python 3 (ipykernel)",
   "language": "python",
   "name": "python3"
  },
  "language_info": {
   "codemirror_mode": {
    "name": "ipython",
    "version": 3
   },
   "file_extension": ".py",
   "mimetype": "text/x-python",
   "name": "python",
   "nbconvert_exporter": "python",
   "pygments_lexer": "ipython3",
   "version": "3.10.11"
  }
 },
 "nbformat": 4,
 "nbformat_minor": 5
}
