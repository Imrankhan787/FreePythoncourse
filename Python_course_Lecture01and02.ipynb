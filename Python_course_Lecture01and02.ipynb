{
 "cells": [
  {
   "cell_type": "markdown",
   "id": "98fb2a6d",
   "metadata": {},
   "source": [
    "## FREE Python Programming Course\n",
    "\n",
    "- **Classes**: 26th December 2023 to 01st January 2024\n",
    "- **Timing** : 09:30 AM --1100 AM Eastern Standard Time (EST)\n",
    "- **Medidum of Instruction**: English\n",
    "- **Mode of delivering lecture**: Zoom\n",
    "\n",
    "Please like, follow, and share my Facebook Page. It will encourage me to offer more programming courses.\n",
    "https://www.facebook.com/LearnR4Datascience\n",
    "\n"
   ]
  },
  {
   "cell_type": "code",
   "execution_count": 3,
   "id": "fa0d5335",
   "metadata": {},
   "outputs": [
    {
     "data": {
      "text/plain": [
       "0"
      ]
     },
     "execution_count": 3,
     "metadata": {},
     "output_type": "execute_result"
    }
   ],
   "source": []
  },
  {
   "cell_type": "markdown",
   "id": "ca671d7d",
   "metadata": {},
   "source": [
    "## What will be covered in first two lectures?\n",
    "\n",
    "Basic data types\n",
    "- Integers\n",
    " - Floating point numbers\n",
    " - String\n",
    " - Boolean Types\n",
    " \n",
    "Operators\n",
    "- Arthimetic Operators\n",
    " - Comparison Operators\n",
    " - Logical Operators\n",
    " - Identity Operators\n",
    " - Assignment Operators\n",
    " \n",
    "What is the conception of variable in Python Programming?\n",
    "\n",
    "Method versus attribute distinction\n",
    "\n",
    "Python's basic data structures (data containers)\n",
    "- List\n",
    "- Tuple\n",
    "- Dictionary\n",
    "- Set\n",
    "\n",
    "Exploring mutability and immutability in detail. I will continously repeat this concept throughout this course.\n",
    "\n"
   ]
  },
  {
   "cell_type": "markdown",
   "id": "efeb3d7e",
   "metadata": {},
   "source": [
    "## Basic data types in Python\n",
    " - Integers\n",
    " - Floating point numbers\n",
    " - String\n",
    " - Boolean Types"
   ]
  },
  {
   "cell_type": "code",
   "execution_count": null,
   "id": "efdb0fe5",
   "metadata": {},
   "outputs": [],
   "source": [
    "# It is important to understand basic data types because we can perform different types of operation depending on the data type."
   ]
  },
  {
   "cell_type": "markdown",
   "id": "1c3c8fe9",
   "metadata": {},
   "source": [
    "# Integer"
   ]
  },
  {
   "cell_type": "code",
   "execution_count": null,
   "id": "aa63a929",
   "metadata": {},
   "outputs": [],
   "source": [
    "integer1 = 50  "
   ]
  },
  {
   "cell_type": "code",
   "execution_count": null,
   "id": "7edcb147",
   "metadata": {},
   "outputs": [],
   "source": [
    "integer2 = 80"
   ]
  },
  {
   "cell_type": "code",
   "execution_count": null,
   "id": "8e1d10f4",
   "metadata": {},
   "outputs": [],
   "source": [
    "integer = 25  # Integers are whole number (matehmatics)."
   ]
  },
  {
   "cell_type": "code",
   "execution_count": null,
   "id": "82342166",
   "metadata": {},
   "outputs": [],
   "source": [
    "int(52.99) # Function that returns integer. This built-in function can convert the input to integer."
   ]
  },
  {
   "cell_type": "code",
   "execution_count": null,
   "id": "912ba685",
   "metadata": {},
   "outputs": [],
   "source": [
    "type(integer1) # How to check the type of primitive data structure in Python? Just use type() function"
   ]
  },
  {
   "cell_type": "markdown",
   "id": "93602987",
   "metadata": {},
   "source": [
    "# Floating point decimal"
   ]
  },
  {
   "cell_type": "code",
   "execution_count": null,
   "id": "751b056a",
   "metadata": {},
   "outputs": [],
   "source": [
    "floating_point = 1.0  #number with the decimal point."
   ]
  },
  {
   "cell_type": "code",
   "execution_count": null,
   "id": "cf25bf68",
   "metadata": {},
   "outputs": [],
   "source": [
    "type(floating_point) # Again you can use the type() function to confirm the floating point decimal type"
   ]
  },
  {
   "cell_type": "code",
   "execution_count": null,
   "id": "c1bca2f0",
   "metadata": {},
   "outputs": [],
   "source": [
    "0.004 # scientific notation of this number 4e-3 but infact the number is floating point"
   ]
  },
  {
   "cell_type": "code",
   "execution_count": null,
   "id": "f8531973",
   "metadata": {},
   "outputs": [],
   "source": [
    "4e-3 ## it is also a float"
   ]
  },
  {
   "cell_type": "code",
   "execution_count": null,
   "id": "7d4945a6",
   "metadata": {},
   "outputs": [],
   "source": [
    "type(4e-3)"
   ]
  },
  {
   "cell_type": "code",
   "execution_count": null,
   "id": "d7627b25",
   "metadata": {},
   "outputs": [],
   "source": [
    "1.79e308  # The largest positive floating point number that you can save in Python"
   ]
  },
  {
   "cell_type": "code",
   "execution_count": null,
   "id": "aee79449",
   "metadata": {},
   "outputs": [],
   "source": [
    "1.8e308 # floating point number"
   ]
  },
  {
   "cell_type": "code",
   "execution_count": null,
   "id": "2dcf70fb",
   "metadata": {},
   "outputs": [],
   "source": [
    "type(4e3)"
   ]
  },
  {
   "cell_type": "markdown",
   "id": "6ff2ca64",
   "metadata": {},
   "source": [
    "# String"
   ]
  },
  {
   "cell_type": "code",
   "execution_count": null,
   "id": "1cad0aee",
   "metadata": {},
   "outputs": [],
   "source": [
    "# Strings are sequence of characters. Space is also a character. You can contain as many characters in a string as you like."
   ]
  },
  {
   "cell_type": "code",
   "execution_count": null,
   "id": "355cb6d3",
   "metadata": {},
   "outputs": [],
   "source": [
    "first_programming_language = \"Python\" # String is another basic data type. Something wrapped in a single or double quote"
   ]
  },
  {
   "cell_type": "code",
   "execution_count": null,
   "id": "87c0112f",
   "metadata": {},
   "outputs": [],
   "source": [
    "first_programming_language"
   ]
  },
  {
   "cell_type": "code",
   "execution_count": null,
   "id": "0d508992",
   "metadata": {},
   "outputs": [],
   "source": [
    "type(first_programming_language) ## type() function gives you type of basic data type"
   ]
  },
  {
   "cell_type": "code",
   "execution_count": null,
   "id": "44823d60",
   "metadata": {},
   "outputs": [],
   "source": [
    "str1 = 'Single quote' # String wrapped in an opening and closing single quote"
   ]
  },
  {
   "cell_type": "code",
   "execution_count": null,
   "id": "71531fbf",
   "metadata": {},
   "outputs": [],
   "source": [
    "str2 = \"Double quote\" # String wrapped in an opening and closing double quotes"
   ]
  },
  {
   "cell_type": "code",
   "execution_count": null,
   "id": "8bc605b1",
   "metadata": {},
   "outputs": [],
   "source": [
    "str_or_int = \"5\" "
   ]
  },
  {
   "cell_type": "code",
   "execution_count": null,
   "id": "c63cf7ad",
   "metadata": {},
   "outputs": [],
   "source": [
    "type(str_or_int)"
   ]
  },
  {
   "cell_type": "code",
   "execution_count": null,
   "id": "41cf877a",
   "metadata": {},
   "outputs": [],
   "source": [
    "str_or_float = 5.0"
   ]
  },
  {
   "cell_type": "code",
   "execution_count": null,
   "id": "eabb0172",
   "metadata": {},
   "outputs": [],
   "source": [
    "type(str_or_float) "
   ]
  },
  {
   "cell_type": "code",
   "execution_count": null,
   "id": "a0e2b6f7",
   "metadata": {},
   "outputs": [],
   "source": [
    "print(\"5 4 3\") ## These numbers are infact string."
   ]
  },
  {
   "cell_type": "code",
   "execution_count": null,
   "id": "ed61aeb8",
   "metadata": {},
   "outputs": [],
   "source": [
    "faulty_String = \"5\"    # opening (single or double) quote must be matched with closing single or double quote."
   ]
  },
  {
   "cell_type": "code",
   "execution_count": null,
   "id": "6f8b7c30",
   "metadata": {},
   "outputs": [],
   "source": [
    "word = \"sum\" "
   ]
  },
  {
   "cell_type": "code",
   "execution_count": null,
   "id": "c779665a",
   "metadata": {},
   "outputs": [],
   "source": [
    "sentence = \"I am a sentence\" # string could be a word or sentence."
   ]
  },
  {
   "cell_type": "code",
   "execution_count": null,
   "id": "45e1c1dc",
   "metadata": {},
   "outputs": [],
   "source": [
    " q =  'Double quote (\"\") is a part of the sentence'"
   ]
  },
  {
   "cell_type": "code",
   "execution_count": null,
   "id": "620eb735",
   "metadata": {},
   "outputs": [],
   "source": [
    "print(\"\"\" Multi-line string is also known as docstring amongst\n",
    "Python community. It includes details about the\"\"\")"
   ]
  },
  {
   "cell_type": "markdown",
   "id": "15bf2a0d",
   "metadata": {},
   "source": [
    "# Boolean: True/False"
   ]
  },
  {
   "cell_type": "code",
   "execution_count": null,
   "id": "c4c74fc5",
   "metadata": {},
   "outputs": [],
   "source": [
    "Bool1 = True"
   ]
  },
  {
   "cell_type": "code",
   "execution_count": null,
   "id": "f60175ae",
   "metadata": {},
   "outputs": [],
   "source": [
    "type(Bool1)"
   ]
  },
  {
   "cell_type": "code",
   "execution_count": null,
   "id": "00e82b16",
   "metadata": {},
   "outputs": [],
   "source": [
    "Bool2 = False"
   ]
  },
  {
   "cell_type": "code",
   "execution_count": null,
   "id": "edbc6e34",
   "metadata": {},
   "outputs": [],
   "source": [
    "type(Bool2)"
   ]
  },
  {
   "cell_type": "code",
   "execution_count": null,
   "id": "1ebaa108",
   "metadata": {},
   "outputs": [],
   "source": [
    "bool_or_String = \"True\""
   ]
  },
  {
   "cell_type": "code",
   "execution_count": null,
   "id": "42ffbcb5",
   "metadata": {},
   "outputs": [],
   "source": [
    "type(bool_or_String)"
   ]
  },
  {
   "cell_type": "markdown",
   "id": "00cf699c",
   "metadata": {},
   "source": [
    "# Operators and Expressions"
   ]
  },
  {
   "cell_type": "markdown",
   "id": "6a52fdd8",
   "metadata": {},
   "source": [
    "**Operators**: Operators are special symbols or keywords that perform various operations on values or variables. \n",
    "They are used to manipulate and perform computations on operands, which can be variables, literals, or expressions.\n",
    "\n",
    "**Expressions**:Expressions, on the other hand, are combinations of values, variables, and operators that evaluate to a single value. They are the building blocks of statements and represent computations or operations to be performed"
   ]
  },
  {
   "cell_type": "markdown",
   "id": "edb78587",
   "metadata": {},
   "source": [
    " - **Arthimetic Operators**\n",
    " - **Comparison Operators**\n",
    " - **Logical Operators**\n",
    " - **Identity Operators**\n",
    " - **Assignment Operators**\n",
    " - **Membership Operators**\n"
   ]
  },
  {
   "cell_type": "markdown",
   "id": "fd9a47fb",
   "metadata": {},
   "source": [
    "## Arthimetic Operators"
   ]
  },
  {
   "cell_type": "markdown",
   "id": "f450f52f",
   "metadata": {},
   "source": [
    "Obviously, arthimetic operators perform operations on numeric data (integer and float)"
   ]
  },
  {
   "cell_type": "markdown",
   "id": "18258168",
   "metadata": {},
   "source": [
    "Arithmetic Operators:\n",
    "- **Addition (+)**: Adds two operands.\n",
    "- **Subtraction (-)**: Subtracts the second operand from the first.\n",
    "- **Multiplication (*)**: Multiplies two operands.\n",
    "- **Division (/)**: Divides the first operand by the second (returns a float).\n",
    "- **Floor Division (//)**: Divides the first operand by the second and rounds down to the nearest integer.\n",
    "- **Modulo (%)**: Returns the remainder of the division.\n",
    "- **Exponentiation (\\*\\*)**: Raises the first operand to the power of the second"
   ]
  },
  {
   "cell_type": "code",
   "execution_count": null,
   "id": "aa2b61db",
   "metadata": {},
   "outputs": [],
   "source": [
    "type(14/3)"
   ]
  },
  {
   "cell_type": "code",
   "execution_count": null,
   "id": "39899871",
   "metadata": {},
   "outputs": [],
   "source": [
    "5 / 2.0  # + is an addition operator. Float or integer. What will be returned?"
   ]
  },
  {
   "cell_type": "code",
   "execution_count": null,
   "id": "b6a9a910",
   "metadata": {},
   "outputs": [],
   "source": [
    "age1 = 18"
   ]
  },
  {
   "cell_type": "code",
   "execution_count": null,
   "id": "21592c00",
   "metadata": {},
   "outputs": [],
   "source": [
    "age2 = 20"
   ]
  },
  {
   "cell_type": "code",
   "execution_count": null,
   "id": "ea013a23",
   "metadata": {},
   "outputs": [],
   "source": [
    "age1 +  age2"
   ]
  },
  {
   "cell_type": "code",
   "execution_count": null,
   "id": "e5d3386d",
   "metadata": {},
   "outputs": [],
   "source": [
    "4/2 ## returns an integer or float? you can check the result with type()"
   ]
  },
  {
   "cell_type": "code",
   "execution_count": null,
   "id": "4d869be1",
   "metadata": {},
   "outputs": [],
   "source": [
    "type(4/2)"
   ]
  },
  {
   "cell_type": "code",
   "execution_count": null,
   "id": "9feeeca9",
   "metadata": {},
   "outputs": [],
   "source": [
    "14//3  ## Floor division: round down to the nearest (smallest) integer"
   ]
  },
  {
   "cell_type": "code",
   "execution_count": null,
   "id": "1be8c98e",
   "metadata": {},
   "outputs": [],
   "source": [
    "5 % 4  ## Returns the remainder of the division. You can check whether the number is even or odd using modulo operator (%)"
   ]
  },
  {
   "cell_type": "code",
   "execution_count": null,
   "id": "1c315434",
   "metadata": {},
   "outputs": [],
   "source": [
    "4**2 # 4 raised to the power 2"
   ]
  },
  {
   "cell_type": "markdown",
   "id": "464c283a",
   "metadata": {},
   "source": [
    "## Comparison Operators"
   ]
  },
  {
   "cell_type": "markdown",
   "id": "0f77f769",
   "metadata": {},
   "source": [
    "**Comparison operators returns boolean True or False. You can compare numbers, string even booleans (not so common)**."
   ]
  },
  {
   "cell_type": "markdown",
   "id": "46de9fb1",
   "metadata": {},
   "source": [
    "Comparison Operators:\n",
    "\n",
    "- **Equal to (==)**: Checks if the values of two operands are equal.\n",
    "- **Not equal to (!=)**: Checks if the values of two operands are not equal.\n",
    "- **Greater than (>)**: Checks if the left operand is greater than the right operand.\n",
    "- **Less than (<)**: Checks if the left operand is less than the right operand.\n",
    "- **Greater than or equal to (>=)**: Checks if the left operand is greater than or equal to the right operand.\n",
    "- **Less than or equal to (<=)**: Checks if the left operand is less than or equal to the right operand."
   ]
  },
  {
   "cell_type": "code",
   "execution_count": null,
   "id": "0ac444c0",
   "metadata": {},
   "outputs": [],
   "source": [
    "5 == 2  # Returns False"
   ]
  },
  {
   "cell_type": "code",
   "execution_count": null,
   "id": "a43ae9e7",
   "metadata": {},
   "outputs": [],
   "source": [
    "# Equality comparisons on floating points\n",
    "y = 2.1 + 2.2 \n",
    "y == 4.3 ## Surprisingly this equality comparison gives you false. \n",
    "\n",
    "#This is because float values are not stored very precisely."
   ]
  },
  {
   "cell_type": "code",
   "execution_count": null,
   "id": "bd9bc6df",
   "metadata": {},
   "outputs": [],
   "source": [
    "# The solution is to allow tolerance\n",
    "\n",
    "tolerance = 0.0001\n",
    "y = 2.1 + 2.2\n",
    "\n",
    "abs(y - 4.3) < tolerance"
   ]
  },
  {
   "cell_type": "code",
   "execution_count": null,
   "id": "f201dd09",
   "metadata": {},
   "outputs": [],
   "source": [
    "\"R\" == \"Python\" ## comparing two strings. Returns False"
   ]
  },
  {
   "cell_type": "code",
   "execution_count": null,
   "id": "1cc19156",
   "metadata": {},
   "outputs": [],
   "source": [
    "\"PythoN\" == \"Python\""
   ]
  },
  {
   "cell_type": "code",
   "execution_count": null,
   "id": "3eefdd79",
   "metadata": {},
   "outputs": [],
   "source": [
    "\"Mathematics\" != \"Data science\""
   ]
  },
  {
   "cell_type": "code",
   "execution_count": null,
   "id": "9beee5c9",
   "metadata": {},
   "outputs": [],
   "source": [
    "True == False ## comparing two booleans"
   ]
  },
  {
   "cell_type": "code",
   "execution_count": null,
   "id": "5e4a8d04",
   "metadata": {},
   "outputs": [],
   "source": [
    "len(\"Java\") == len(\"JAVA\") ##len() function gives you the length of string"
   ]
  },
  {
   "cell_type": "code",
   "execution_count": null,
   "id": "c0938a39",
   "metadata": {},
   "outputs": [],
   "source": [
    "type(5 < 2) ## What will be the output data type? Always keep an eye on output data type. Make it your habit"
   ]
  },
  {
   "cell_type": "code",
   "execution_count": null,
   "id": "d12fb64a",
   "metadata": {},
   "outputs": [],
   "source": [
    "6 >=6 # 5 less than or equal to"
   ]
  },
  {
   "cell_type": "markdown",
   "id": "a3f4e45d",
   "metadata": {},
   "source": [
    "## Logical Operators"
   ]
  },
  {
   "cell_type": "markdown",
   "id": "7a726eae",
   "metadata": {},
   "source": [
    "**Logical operators that combine two or more boolean expressions. Logical opeators are \"and\", \"or\", \"not\"**"
   ]
  },
  {
   "cell_type": "markdown",
   "id": "5e948dc2",
   "metadata": {},
   "source": [
    "\"And\" logical operator\n",
    "\n",
    "- True and True = True \n",
    "- True and False = False\n",
    "- False and True = False\n",
    "- False and False = False"
   ]
  },
  {
   "cell_type": "code",
   "execution_count": null,
   "id": "baaa9621",
   "metadata": {},
   "outputs": [],
   "source": [
    "x = 10"
   ]
  },
  {
   "cell_type": "code",
   "execution_count": null,
   "id": "94d2a635",
   "metadata": {},
   "outputs": [],
   "source": [
    " (x < 20) and (len(\"python\") < 10)"
   ]
  },
  {
   "cell_type": "code",
   "execution_count": null,
   "id": "da0c1d52",
   "metadata": {},
   "outputs": [],
   "source": [
    "older_than_18 = False\n",
    "car_licence = False\n",
    "\n",
    "older_than_18  &   car_licence  ## Two conditions should be simultaneously met for driving eligibility"
   ]
  },
  {
   "cell_type": "code",
   "execution_count": null,
   "id": "d6b31727",
   "metadata": {},
   "outputs": [],
   "source": [
    "num = 5\n",
    "\n",
    "if num > 0 and num % 2 == 0:\n",
    "    print(\"The number is positive and even.\")\n",
    "else:\n",
    "    print(\"The number is either not positive or not even.\")"
   ]
  },
  {
   "cell_type": "markdown",
   "id": "6ddf69a4",
   "metadata": {},
   "source": [
    "\"or\" logical operator\n",
    "\n",
    "- True or True = True \n",
    "- True or False = True\n",
    "- False or True = True\n",
    "- False or False = False"
   ]
  },
  {
   "cell_type": "code",
   "execution_count": null,
   "id": "dd50e17b",
   "metadata": {},
   "outputs": [],
   "source": [
    "# Check if a student has passed in at least one subject\n",
    "math_score = 25\n",
    "science_score = 50\n",
    "\n",
    "if math_score >= 50 or science_score >= 50:\n",
    "    print(\"The student has passed at least one subject.\")\n",
    "else:\n",
    "    print(\"The student has failed both subjects.\")"
   ]
  },
  {
   "cell_type": "code",
   "execution_count": null,
   "id": "5be6418e",
   "metadata": {},
   "outputs": [],
   "source": [
    "z = 15\n",
    "not(z ==15)"
   ]
  },
  {
   "cell_type": "code",
   "execution_count": null,
   "id": "c34983f3",
   "metadata": {},
   "outputs": [],
   "source": [
    "not True"
   ]
  },
  {
   "cell_type": "code",
   "execution_count": null,
   "id": "89689698",
   "metadata": {},
   "outputs": [],
   "source": [
    "not False"
   ]
  },
  {
   "cell_type": "markdown",
   "id": "ccdaf01f",
   "metadata": {},
   "source": [
    "Evaluation of non-Boolean values in Boolean context\n",
    "\n",
    "### True\n",
    "- **Numerical Values**: Any non-zero value (integer or decimal) is considered True. This includes positive numbers and negative   numbers (e.g., bool(1) is True)\n",
    "- **String**: Non-empty string is True\n",
    "- **Composite Data Structures**: Built-in Composite data structures (list, tuple, set, dictionary): Non-Empty built-in composite data structure is True.\n",
    "\n",
    "### False\n",
    "- **Zero**: 0 is False in boolean context. you can verifcy with bool(0). Any value that is numerically zero should be understood \n",
    "as false in boolean context.\n",
    "- **String** : An empty string is false\n",
    "- **None** : Built-in keyword None is always False\n"
   ]
  },
  {
   "cell_type": "code",
   "execution_count": 7,
   "id": "aff70f0b",
   "metadata": {},
   "outputs": [
    {
     "name": "stdout",
     "output_type": "stream",
     "text": [
      "True True True True\n"
     ]
    }
   ],
   "source": [
    "print(bool(1),bool(-5.2), bool(2),bool(\"Imran\"))"
   ]
  },
  {
   "cell_type": "code",
   "execution_count": 8,
   "id": "e52d924f",
   "metadata": {},
   "outputs": [
    {
     "data": {
      "text/plain": [
       "False"
      ]
     },
     "execution_count": 8,
     "metadata": {},
     "output_type": "execute_result"
    }
   ],
   "source": [
    "bool(0)"
   ]
  },
  {
   "cell_type": "code",
   "execution_count": 9,
   "id": "677e1d32",
   "metadata": {},
   "outputs": [
    {
     "name": "stdout",
     "output_type": "stream",
     "text": [
      "False True\n"
     ]
    }
   ],
   "source": [
    "print(bool([]), bool([1,2,3]))"
   ]
  },
  {
   "cell_type": "markdown",
   "id": "736badbe",
   "metadata": {},
   "source": [
    "# Assignment Operator"
   ]
  },
  {
   "cell_type": "markdown",
   "id": "7cf3fe5f",
   "metadata": {},
   "source": [
    "Assignment Operators:\n",
    "\n",
    "- **Assignment (=)**: Assigns a value to a variable.\n",
    "- Addition Assignment (+=): Adds the right operand to the left operand and assigns the result to the left operand.\n",
    "- Subtraction Assignment (-=): Subtracts the right operand from the left operand and assigns the result to the left operand.\n",
    "- Multiplication Assignment (*=): Multiplies the left operand by the right operand and assigns the result to the left operand.\n",
    "- Division Assignment (/=): Divides the left operand by the right operand and assigns the result to the left operand"
   ]
  },
  {
   "cell_type": "markdown",
   "id": "a764c22c",
   "metadata": {},
   "source": [
    "# Identity Operators"
   ]
  },
  {
   "cell_type": "code",
   "execution_count": null,
   "id": "45b21fdc",
   "metadata": {},
   "outputs": [],
   "source": [
    "# \"is\" and \"is not\" are the identity operators.\n",
    "# They test whether the two variables are referring to the same or different objects in the memory.\n",
    "# Identity operator \"is\" tests whether the two variables (operands or objects) share the same memory address.\n",
    "# How do you find memory address of something? Use id()\n",
    "# Identity operator \"is not\" tests whether the two varaibles are different objects in the memory.\n",
    "# Identity operator (\"is\") is different from the equality operator (==).\n"
   ]
  },
  {
   "cell_type": "code",
   "execution_count": 11,
   "id": "1c532ed8",
   "metadata": {},
   "outputs": [],
   "source": [
    "x = 2020\n",
    "y = 2020"
   ]
  },
  {
   "cell_type": "code",
   "execution_count": 12,
   "id": "840ae949",
   "metadata": {},
   "outputs": [
    {
     "data": {
      "text/plain": [
       "True"
      ]
     },
     "execution_count": 12,
     "metadata": {},
     "output_type": "execute_result"
    }
   ],
   "source": [
    "x == y # The value of two variables (operands) is equal to each other."
   ]
  },
  {
   "cell_type": "code",
   "execution_count": 13,
   "id": "ca833ee1",
   "metadata": {},
   "outputs": [
    {
     "data": {
      "text/plain": [
       "False"
      ]
     },
     "execution_count": 13,
     "metadata": {},
     "output_type": "execute_result"
    }
   ],
   "source": [
    "x is y # Although x and y have same value, they are two different (independent) objects in the memory."
   ]
  },
  {
   "cell_type": "code",
   "execution_count": 14,
   "id": "deb62f80",
   "metadata": {},
   "outputs": [
    {
     "data": {
      "text/plain": [
       "2239122532912"
      ]
     },
     "execution_count": 14,
     "metadata": {},
     "output_type": "execute_result"
    }
   ],
   "source": [
    "id(x) # gives you the memory address of x"
   ]
  },
  {
   "cell_type": "code",
   "execution_count": 15,
   "id": "f1646208",
   "metadata": {},
   "outputs": [
    {
     "data": {
      "text/plain": [
       "2239122531344"
      ]
     },
     "execution_count": 15,
     "metadata": {},
     "output_type": "execute_result"
    }
   ],
   "source": [
    "id(y) # gives you the memory address of y. variables x and y dont have common memory address.\n",
    "# Therefore, x and y are two different objects in the memory."
   ]
  },
  {
   "cell_type": "code",
   "execution_count": 17,
   "id": "a41780d3",
   "metadata": {},
   "outputs": [],
   "source": [
    "# It is possible for the two variables to have the \"same value\" and same \"memory address\".\n",
    "\n",
    "a = 2005\n",
    "b = a\n",
    "\n"
   ]
  },
  {
   "cell_type": "code",
   "execution_count": 18,
   "id": "13f50633",
   "metadata": {},
   "outputs": [
    {
     "data": {
      "text/plain": [
       "True"
      ]
     },
     "execution_count": 18,
     "metadata": {},
     "output_type": "execute_result"
    }
   ],
   "source": [
    "a == b"
   ]
  },
  {
   "cell_type": "code",
   "execution_count": 19,
   "id": "15e10f07",
   "metadata": {},
   "outputs": [
    {
     "data": {
      "text/plain": [
       "True"
      ]
     },
     "execution_count": 19,
     "metadata": {},
     "output_type": "execute_result"
    }
   ],
   "source": [
    "a is b "
   ]
  },
  {
   "cell_type": "code",
   "execution_count": 20,
   "id": "1db989c1",
   "metadata": {},
   "outputs": [
    {
     "data": {
      "text/plain": [
       "2239124801776"
      ]
     },
     "execution_count": 20,
     "metadata": {},
     "output_type": "execute_result"
    }
   ],
   "source": [
    "id(a)"
   ]
  },
  {
   "cell_type": "code",
   "execution_count": 21,
   "id": "99c924c2",
   "metadata": {},
   "outputs": [
    {
     "data": {
      "text/plain": [
       "2239124801776"
      ]
     },
     "execution_count": 21,
     "metadata": {},
     "output_type": "execute_result"
    }
   ],
   "source": [
    "id(b)"
   ]
  },
  {
   "cell_type": "code",
   "execution_count": null,
   "id": "4fd54762",
   "metadata": {},
   "outputs": [],
   "source": [
    "id(a) == id(b) ## The two variables have the same values but also same objects in the memory. "
   ]
  },
  {
   "cell_type": "code",
   "execution_count": null,
   "id": "b143a1f7",
   "metadata": {},
   "outputs": [],
   "source": [
    "## What would happen to the value of variable \"b\" if the new value \"2010\" is assigned to the variable \"a\"? \n",
    "## Remember Integer, float, string and boolean all are immutable. In other words, all four basic data types are immutable.\n",
    "a = 2010"
   ]
  },
  {
   "cell_type": "code",
   "execution_count": null,
   "id": "42f82ccb",
   "metadata": {},
   "outputs": [],
   "source": [
    "\n",
    "id(a)== id(b)"
   ]
  },
  {
   "cell_type": "markdown",
   "id": "ae8e51b8",
   "metadata": {},
   "source": [
    "## Membership Operator"
   ]
  },
  {
   "cell_type": "markdown",
   "id": "77472e55",
   "metadata": {},
   "source": [
    "In Python, **membership operators are used to test whether a value is a member of a sequence or not. The two membership operators are:**\n",
    "\n",
    "**in** operator:\n",
    "Returns True if a value is found in the sequence.\n",
    "Returns False otherwise.\n",
    "\n",
    "**not in** operator:\n",
    "Returns True if a value is not found in the sequence.\n",
    "Returns False otherwise."
   ]
  },
  {
   "cell_type": "code",
   "execution_count": null,
   "id": "18bf7c97",
   "metadata": {},
   "outputs": [],
   "source": [
    "numbers = [1, 2, 3, 4, 5]\n",
    "\n",
    "# Check if 3 is in the list\n",
    "print(3 in numbers)  \n",
    "\n",
    "# Check if 8 is in the list\n",
    "print(8 in numbers)  "
   ]
  },
  {
   "cell_type": "markdown",
   "id": "aa6dca47",
   "metadata": {},
   "source": [
    "## Variables in Python"
   ]
  },
  {
   "cell_type": "code",
   "execution_count": null,
   "id": "fe373642",
   "metadata": {},
   "outputs": [],
   "source": [
    "# Dynamically typed versus statitcally typed language. Python is a dynamically typed language.\n",
    "# In dynamically typed language, we don't need to initially declare the data type the variable will hold. And the value of \n",
    "# different data type can be assigned to the variable"
   ]
  },
  {
   "cell_type": "code",
   "execution_count": null,
   "id": "c741cec8",
   "metadata": {},
   "outputs": [],
   "source": [
    "var = \"String\" ## we did not initially declare what type of data will be stored in the variable named \"var\""
   ]
  },
  {
   "cell_type": "code",
   "execution_count": null,
   "id": "2f4cd24a",
   "metadata": {},
   "outputs": [],
   "source": [
    "# Let us assign the value of different data type to the variable named \"var\"\n",
    "var = 5"
   ]
  },
  {
   "cell_type": "code",
   "execution_count": null,
   "id": "a7e81c10",
   "metadata": {},
   "outputs": [],
   "source": [
    "#variable name cannot start with numbers. But variable name can contain digits except the first character of the variable.\n",
    "#We cannot use existing keywords reserved in Python eg,False, True, None, for, while, not, and, or, in etc.\n",
    "#Variable name cannot contain spaces."
   ]
  },
  {
   "cell_type": "code",
   "execution_count": 22,
   "id": "66fd460c",
   "metadata": {},
   "outputs": [
    {
     "name": "stdout",
     "output_type": "stream",
     "text": [
      "PythonLovers PythonLovers PythonLovers\n"
     ]
    }
   ],
   "source": [
    "##Python also allows chained assignment. A single value is assigned to multiple variables simultaneously\n",
    "\n",
    "p = q = r = \"PythonLovers\"\n",
    "print(p,q,r)"
   ]
  },
  {
   "cell_type": "code",
   "execution_count": 25,
   "id": "1cdbcbfc",
   "metadata": {},
   "outputs": [
    {
     "data": {
      "text/plain": [
       "True"
      ]
     },
     "execution_count": 25,
     "metadata": {},
     "output_type": "execute_result"
    }
   ],
   "source": [
    "p is r"
   ]
  },
  {
   "cell_type": "code",
   "execution_count": null,
   "id": "a40827d0",
   "metadata": {},
   "outputs": [],
   "source": [
    "## Give example and visually explain"
   ]
  },
  {
   "cell_type": "markdown",
   "id": "aa5e1dc0",
   "metadata": {},
   "source": [
    "## Python's data structure\n",
    "- List\n",
    "- Tuple\n",
    "- Dictionary\n",
    "- Set"
   ]
  },
  {
   "cell_type": "markdown",
   "id": "eb74838f",
   "metadata": {},
   "source": [
    "In programming, a data structure is a way of **organizing** and **storing data** in a computer's memory so that it can be efficiently **accessed** and **manipulated**. It provides a means for representing and organizing data in a logical and efficient manner, allowing for efficient data retrieval, insertion, deletion, and modification operations."
   ]
  },
  {
   "cell_type": "markdown",
   "id": "e9db5376",
   "metadata": {},
   "source": [
    "**Lists**: Lists are \"ordered\", mutable collections of elements. They can contain elements of different types and are enclosed in square brackets ([]). Lists support various operations such as indexing, slicing, appending, inserting, and more.\n",
    "\n",
    "**Tuples**: Tuples are similar to lists but are \"immutable\", meaning they cannot be modified after creation. They are enclosed in parentheses (()) and are commonly used to group related elements. Tuples can be accessed using indexing and slicing.\n",
    "\n",
    "**Sets**: Sets are \"unordered\" collections of \"unique elements\". They do not allow duplicate values and are useful for membership testing and eliminating duplicates from other collections. Sets are created using curly braces ({}) or the set() function.\n",
    "\n",
    "**Dictionaries**: Dictionaries are key-value pairs where each value is associated with a unique key. They provide efficient lookup operations and are useful for mapping and retrieving values based on keys. Dictionaries are created using curly braces ({}) or the dict() function.\n",
    "\n",
    "\n"
   ]
  },
  {
   "cell_type": "markdown",
   "id": "3476b4d8",
   "metadata": {},
   "source": [
    "## Lists"
   ]
  },
  {
   "cell_type": "markdown",
   "id": "cd05a8e7",
   "metadata": {},
   "source": [
    "The important characteristics of Python lists are as follows:\n",
    "\n",
    "- Lists are ordered.\n",
    "- Lists can contain any arbitrary objects.\n",
    "- List elements can be accessed by index.\n",
    "- Lists can be nested to arbitrary depth.\n",
    "- Lists are mutable.\n",
    "- Lists are dynamic\n",
    "\n",
    "(Read realpython blog https://realpython.com/python-lists-tuples/)"
   ]
  },
  {
   "cell_type": "code",
   "execution_count": 1,
   "id": "b5cb3b6a",
   "metadata": {},
   "outputs": [],
   "source": [
    "a = ['foo', 'bar', 'baz', 'qux']"
   ]
  },
  {
   "cell_type": "code",
   "execution_count": 2,
   "id": "9d5e751a",
   "metadata": {},
   "outputs": [
    {
     "data": {
      "text/plain": [
       "4"
      ]
     },
     "execution_count": 2,
     "metadata": {},
     "output_type": "execute_result"
    }
   ],
   "source": [
    "len(a)"
   ]
  },
  {
   "cell_type": "code",
   "execution_count": 3,
   "id": "1d21d3c4",
   "metadata": {},
   "outputs": [],
   "source": [
    "b = ['baz', 'qux', 'bar', 'foo']"
   ]
  },
  {
   "cell_type": "code",
   "execution_count": 4,
   "id": "381b8976",
   "metadata": {},
   "outputs": [
    {
     "data": {
      "text/plain": [
       "False"
      ]
     },
     "execution_count": 4,
     "metadata": {},
     "output_type": "execute_result"
    }
   ],
   "source": [
    "a == b  ##The two Lists that have the same elements but in a different order. Therefore, they are not the same:"
   ]
  },
  {
   "cell_type": "code",
   "execution_count": 5,
   "id": "38f41c15",
   "metadata": {},
   "outputs": [
    {
     "data": {
      "text/plain": [
       "False"
      ]
     },
     "execution_count": 5,
     "metadata": {},
     "output_type": "execute_result"
    }
   ],
   "source": [
    "a is b  ## The two lists are the different objects in memory. The two lists have different memory address.Confirm with id()"
   ]
  },
  {
   "cell_type": "code",
   "execution_count": 6,
   "id": "6d41d189",
   "metadata": {},
   "outputs": [
    {
     "data": {
      "text/plain": [
       "False"
      ]
     },
     "execution_count": 6,
     "metadata": {},
     "output_type": "execute_result"
    }
   ],
   "source": [
    "id(b)==id(a)"
   ]
  },
  {
   "cell_type": "code",
   "execution_count": null,
   "id": "4403f022",
   "metadata": {},
   "outputs": [],
   "source": []
  },
  {
   "cell_type": "code",
   "execution_count": 10,
   "id": "368adaaf",
   "metadata": {},
   "outputs": [],
   "source": [
    "programming = [\"Python\",\"Java\",\"R\",\"Netlogo\"] # all the elements are of same data type. Lists are flexible we can store any\n",
    "#type of data in a list. Lists can even contain complex objects like functions, classes."
   ]
  },
  {
   "cell_type": "code",
   "execution_count": 11,
   "id": "2a9f8b30",
   "metadata": {},
   "outputs": [],
   "source": [
    "varying_data_type = [1, 5.5, True, \"False\"]"
   ]
  },
  {
   "cell_type": "code",
   "execution_count": 12,
   "id": "9d80cd1c",
   "metadata": {},
   "outputs": [],
   "source": [
    "no_unique = [\"R\",\"Python\",\"Java\", \"R\"] ##list elements are not required to be unique. They could be different or same."
   ]
  },
  {
   "cell_type": "code",
   "execution_count": 14,
   "id": "44fbfe94",
   "metadata": {},
   "outputs": [
    {
     "data": {
      "text/plain": [
       "['Python', 'Java', 'R']"
      ]
     },
     "execution_count": 14,
     "metadata": {},
     "output_type": "execute_result"
    }
   ],
   "source": [
    "programming[0:3]  ## We will study indexing in details in coming week. But at this point we need to know that lists are indexable."
   ]
  },
  {
   "cell_type": "code",
   "execution_count": null,
   "id": "30d8daa9",
   "metadata": {},
   "outputs": [],
   "source": [
    "## Membership operators: \"in\" and \"not in\" check whether the element exists or does not exist in any data structure"
   ]
  },
  {
   "cell_type": "code",
   "execution_count": null,
   "id": "fbab41e9",
   "metadata": {},
   "outputs": [],
   "source": [
    "\"Python\" in programming ## This check whether \"R\" is one of elements in \"programming\", which ia a list."
   ]
  },
  {
   "cell_type": "code",
   "execution_count": 36,
   "id": "bb373c80",
   "metadata": {},
   "outputs": [],
   "source": [
    "Nested_list = [\"Java\", \"Ruby\", \"Javascript\", [\"R\", \"Python\"]] "
   ]
  },
  {
   "cell_type": "code",
   "execution_count": 37,
   "id": "0373ee5e",
   "metadata": {},
   "outputs": [
    {
     "data": {
      "text/plain": [
       "['Java', 'Ruby', 'Javascript', ['R', 'Python']]"
      ]
     },
     "execution_count": 37,
     "metadata": {},
     "output_type": "execute_result"
    }
   ],
   "source": [
    "Nested_list"
   ]
  },
  {
   "cell_type": "code",
   "execution_count": 38,
   "id": "46e61f91",
   "metadata": {},
   "outputs": [
    {
     "name": "stdout",
     "output_type": "stream",
     "text": [
      "Nested_list\t a\t b\t p\t programming\t q\t r\t varying_data_type\t x\t \n",
      "y\t \n"
     ]
    }
   ],
   "source": []
  },
  {
   "cell_type": "code",
   "execution_count": null,
   "id": "8d4d5f29",
   "metadata": {},
   "outputs": [],
   "source": [
    "\"Python\" in Nested_list ## Membership operator does not check the element in nested data structures within list."
   ]
  },
  {
   "cell_type": "code",
   "execution_count": 39,
   "id": "8625d9c9",
   "metadata": {},
   "outputs": [
    {
     "name": "stdout",
     "output_type": "stream",
     "text": [
      "Python exists in the nested list\n"
     ]
    }
   ],
   "source": [
    "for object in Nested_list:   ## for loop is the answer\n",
    "    if \"Python\" in object:\n",
    "        print(\"Python exists in the nested list\")            "
   ]
  },
  {
   "cell_type": "code",
   "execution_count": 15,
   "id": "3204351b",
   "metadata": {},
   "outputs": [],
   "source": [
    "a = [1,2,3]"
   ]
  },
  {
   "cell_type": "code",
   "execution_count": 16,
   "id": "0b486cd5",
   "metadata": {},
   "outputs": [
    {
     "data": {
      "text/plain": [
       "3"
      ]
     },
     "execution_count": 16,
     "metadata": {},
     "output_type": "execute_result"
    }
   ],
   "source": [
    "len(a)"
   ]
  },
  {
   "cell_type": "code",
   "execution_count": 17,
   "id": "5358032c",
   "metadata": {},
   "outputs": [],
   "source": [
    "## Concatenation (+) and replication of the lists (*)\n",
    "bigger_list = programming + a ## We are combining two lists into a bigger list. Plus operator does more than simple arthimetic\n",
    "# operations\n",
    "##c = b*2  ## "
   ]
  },
  {
   "cell_type": "code",
   "execution_count": 44,
   "id": "2823f2a7",
   "metadata": {},
   "outputs": [
    {
     "data": {
      "text/plain": [
       "['Python', 'Java', 'R', 'Netlogo', 1, 2, 3]"
      ]
     },
     "execution_count": 44,
     "metadata": {},
     "output_type": "execute_result"
    }
   ],
   "source": [
    "bigger_list"
   ]
  },
  {
   "cell_type": "code",
   "execution_count": null,
   "id": "6882ac91",
   "metadata": {},
   "outputs": [],
   "source": [
    "b = [\"R\",\"Python\"]"
   ]
  },
  {
   "cell_type": "code",
   "execution_count": null,
   "id": "0e1b727c",
   "metadata": {},
   "outputs": [],
   "source": [
    "## The functions that we can use for lists is min(), max() and len(). Create a list with numbers and use these functions"
   ]
  },
  {
   "cell_type": "code",
   "execution_count": 18,
   "id": "74ae0e1b",
   "metadata": {},
   "outputs": [
    {
     "data": {
      "text/plain": [
       "['__add__',\n",
       " '__class__',\n",
       " '__class_getitem__',\n",
       " '__contains__',\n",
       " '__delattr__',\n",
       " '__delitem__',\n",
       " '__dir__',\n",
       " '__doc__',\n",
       " '__eq__',\n",
       " '__format__',\n",
       " '__ge__',\n",
       " '__getattribute__',\n",
       " '__getitem__',\n",
       " '__gt__',\n",
       " '__hash__',\n",
       " '__iadd__',\n",
       " '__imul__',\n",
       " '__init__',\n",
       " '__init_subclass__',\n",
       " '__iter__',\n",
       " '__le__',\n",
       " '__len__',\n",
       " '__lt__',\n",
       " '__mul__',\n",
       " '__ne__',\n",
       " '__new__',\n",
       " '__reduce__',\n",
       " '__reduce_ex__',\n",
       " '__repr__',\n",
       " '__reversed__',\n",
       " '__rmul__',\n",
       " '__setattr__',\n",
       " '__setitem__',\n",
       " '__sizeof__',\n",
       " '__str__',\n",
       " '__subclasshook__',\n",
       " 'append',\n",
       " 'clear',\n",
       " 'copy',\n",
       " 'count',\n",
       " 'extend',\n",
       " 'index',\n",
       " 'insert',\n",
       " 'pop',\n",
       " 'remove',\n",
       " 'reverse',\n",
       " 'sort']"
      ]
     },
     "execution_count": 18,
     "metadata": {},
     "output_type": "execute_result"
    }
   ],
   "source": [
    "dir(list) ##these are all the methods we can use on list objects."
   ]
  },
  {
   "cell_type": "code",
   "execution_count": null,
   "id": "53edbcba",
   "metadata": {},
   "outputs": [],
   "source": [
    "x = ['a', ['bb', ['ccc', 'ddd'], 'ee', 'ff'], 'g', ['hh', 'ii'], 'j']  ## Nested lists within a list. Lists can be nested \n",
    "# to any complexity or depth. No restriction."
   ]
  },
  {
   "cell_type": "code",
   "execution_count": 20,
   "id": "c70a0970",
   "metadata": {},
   "outputs": [],
   "source": [
    "numeric_list = [5, 6, 7, 8, 9]"
   ]
  },
  {
   "cell_type": "code",
   "execution_count": 21,
   "id": "e63f2a0c",
   "metadata": {},
   "outputs": [
    {
     "data": {
      "text/plain": [
       "5"
      ]
     },
     "execution_count": 21,
     "metadata": {},
     "output_type": "execute_result"
    }
   ],
   "source": [
    "len(numeric_list)"
   ]
  },
  {
   "cell_type": "code",
   "execution_count": 22,
   "id": "102b6614",
   "metadata": {},
   "outputs": [
    {
     "data": {
      "text/plain": [
       "5"
      ]
     },
     "execution_count": 22,
     "metadata": {},
     "output_type": "execute_result"
    }
   ],
   "source": [
    "min(numeric_list)  ## you have to write your own function. This is for later lectures"
   ]
  },
  {
   "cell_type": "code",
   "execution_count": 23,
   "id": "a455ff54",
   "metadata": {},
   "outputs": [
    {
     "data": {
      "text/plain": [
       "9"
      ]
     },
     "execution_count": 23,
     "metadata": {},
     "output_type": "execute_result"
    }
   ],
   "source": [
    "max(numeric_list)"
   ]
  },
  {
   "cell_type": "code",
   "execution_count": 24,
   "id": "e725c44a",
   "metadata": {},
   "outputs": [],
   "source": [
    "numeric_nestedlist = [5, 6, 7, 8, 9, [1,2,3]]"
   ]
  },
  {
   "cell_type": "code",
   "execution_count": 25,
   "id": "4393c696",
   "metadata": {},
   "outputs": [
    {
     "data": {
      "text/plain": [
       "6"
      ]
     },
     "execution_count": 25,
     "metadata": {},
     "output_type": "execute_result"
    }
   ],
   "source": [
    "len(numeric_nestedlist)"
   ]
  },
  {
   "cell_type": "code",
   "execution_count": 26,
   "id": "cef2c0d5",
   "metadata": {},
   "outputs": [
    {
     "ename": "TypeError",
     "evalue": "'<' not supported between instances of 'list' and 'int'",
     "output_type": "error",
     "traceback": [
      "\u001b[1;31m---------------------------------------------------------------------------\u001b[0m",
      "\u001b[1;31mTypeError\u001b[0m                                 Traceback (most recent call last)",
      "Cell \u001b[1;32mIn[26], line 1\u001b[0m\n\u001b[1;32m----> 1\u001b[0m \u001b[38;5;28;43mmin\u001b[39;49m\u001b[43m(\u001b[49m\u001b[43mnumeric_nestedlist\u001b[49m\u001b[43m)\u001b[49m \u001b[38;5;66;03m## write your own function to find the minimum value in the nested list\u001b[39;00m\n",
      "\u001b[1;31mTypeError\u001b[0m: '<' not supported between instances of 'list' and 'int'"
     ]
    }
   ],
   "source": [
    "min(numeric_nestedlist) ## write your own function to find the minimum value in the nested list"
   ]
  },
  {
   "cell_type": "code",
   "execution_count": null,
   "id": "b856ea31",
   "metadata": {},
   "outputs": [],
   "source": [
    "max(numeric_nestedlist)"
   ]
  },
  {
   "cell_type": "code",
   "execution_count": null,
   "id": "c826a606",
   "metadata": {},
   "outputs": [],
   "source": [
    "##Lists are mutable.Once a list has been created, elements can be added, deleted, shifted, and moved around at will. \n",
    "##Python provides a wide range of ways to modify lists."
   ]
  },
  {
   "cell_type": "code",
   "execution_count": null,
   "id": "0d563380",
   "metadata": {},
   "outputs": [],
   "source": [
    "numeric_list"
   ]
  },
  {
   "cell_type": "code",
   "execution_count": null,
   "id": "c170a6e6",
   "metadata": {},
   "outputs": [],
   "source": [
    "numeric_list[1] = 999  ## The counting starts with zero in Python. The element at the first position is indexed with zero."
   ]
  },
  {
   "cell_type": "code",
   "execution_count": null,
   "id": "7df36fb2",
   "metadata": {},
   "outputs": [],
   "source": [
    "numeric_list"
   ]
  },
  {
   "cell_type": "code",
   "execution_count": null,
   "id": "232014e0",
   "metadata": {},
   "outputs": [],
   "source": [
    "del numeric_list[1] ## you can delete the item in a list with del command"
   ]
  },
  {
   "cell_type": "code",
   "execution_count": null,
   "id": "cb8c52ac",
   "metadata": {},
   "outputs": [],
   "source": [
    "## How to modify multiple elements of the list simultaneously?"
   ]
  },
  {
   "cell_type": "code",
   "execution_count": null,
   "id": "9d3eff16",
   "metadata": {},
   "outputs": [],
   "source": [
    "a = ['foo', 'bar', 'baz', 'qux', 'quux', 'corge']"
   ]
  },
  {
   "cell_type": "code",
   "execution_count": null,
   "id": "fe374efb",
   "metadata": {},
   "outputs": [],
   "source": [
    "a[1:4] = [1.1, 2.2, 3.3, 4.4, 5.5] ## Modifying multiple elements in a list when the elements are in sequence"
   ]
  },
  {
   "cell_type": "code",
   "execution_count": null,
   "id": "a5684612",
   "metadata": {},
   "outputs": [],
   "source": [
    "a"
   ]
  },
  {
   "cell_type": "code",
   "execution_count": null,
   "id": "dcea3523",
   "metadata": {},
   "outputs": [],
   "source": [
    "b = [1, 2, 3] "
   ]
  },
  {
   "cell_type": "code",
   "execution_count": null,
   "id": "7e9e788a",
   "metadata": {},
   "outputs": [],
   "source": [
    "b[1:2] = [2.1, 2.2, 2.3] ## You can replace a single element with multiple elements in list. We can also relace the \n",
    "##single element with a list."
   ]
  },
  {
   "cell_type": "code",
   "execution_count": null,
   "id": "8585765a",
   "metadata": {},
   "outputs": [],
   "source": [
    "b ## element 2 is replaced with elements 2.1, 2.2 and 2.3"
   ]
  },
  {
   "cell_type": "code",
   "execution_count": null,
   "id": "b5d17366",
   "metadata": {},
   "outputs": [],
   "source": [
    "b[4] = [5,6,7,8] ## This syntax allows replacing an element with list."
   ]
  },
  {
   "cell_type": "code",
   "execution_count": null,
   "id": "427d94f4",
   "metadata": {},
   "outputs": [],
   "source": [
    "b"
   ]
  },
  {
   "cell_type": "code",
   "execution_count": null,
   "id": "1fce2317",
   "metadata": {},
   "outputs": [],
   "source": [
    "## There are also some methods that modify lists. Remember the list methods modify the original list in place. They don't\n",
    "## return the new list.\n",
    "\n",
    "## list.append(<obj>) appends object <obj> to the end of list a\n",
    "\n",
    "## list.extend(<iterable>)Extends a list with the objects from an iterable.extend() also adds to the end of a list, \n",
    "## but the argument is expected to be an iterable. The items in <iterable> are added individually.\n",
    "\n",
    "## list.insert(<index>, <obj>) inserts object <obj> into list at the specified <index>.\n",
    "\n",
    "## list.remove(<obj>) removes object <obj> from list a. If <obj> isn’t in a, an exception is raised"
   ]
  },
  {
   "cell_type": "code",
   "execution_count": 34,
   "id": "1e3573ad",
   "metadata": {},
   "outputs": [],
   "source": [
    "ls = [99, 100]"
   ]
  },
  {
   "cell_type": "code",
   "execution_count": 30,
   "id": "14a3a555",
   "metadata": {},
   "outputs": [
    {
     "name": "stdout",
     "output_type": "stream",
     "text": [
      "Help on method_descriptor:\n",
      "\n",
      "append(self, object, /)\n",
      "    Append object to the end of the list.\n",
      "\n"
     ]
    }
   ],
   "source": [
    "help(list.append) ## How to call help for any method in jupyter notebook?"
   ]
  },
  {
   "cell_type": "code",
   "execution_count": 32,
   "id": "73aa1277",
   "metadata": {},
   "outputs": [],
   "source": [
    "ls.append([555, 25])"
   ]
  },
  {
   "cell_type": "code",
   "execution_count": 33,
   "id": "2143deb4",
   "metadata": {},
   "outputs": [
    {
     "data": {
      "text/plain": [
       "[99, 100, [555, 25]]"
      ]
     },
     "execution_count": 33,
     "metadata": {},
     "output_type": "execute_result"
    }
   ],
   "source": [
    "ls"
   ]
  },
  {
   "cell_type": "code",
   "execution_count": null,
   "id": "4458daed",
   "metadata": {},
   "outputs": [],
   "source": [
    "ls.extend([25]) ## you are appending a single element at the end of list"
   ]
  },
  {
   "cell_type": "code",
   "execution_count": 35,
   "id": "a2b60283",
   "metadata": {},
   "outputs": [],
   "source": [
    "ls.extend([\"R\",\"Python\"]) ## When we are appending multiple elements, it will be appendend as a single nested list."
   ]
  },
  {
   "cell_type": "code",
   "execution_count": 36,
   "id": "748f68c5",
   "metadata": {},
   "outputs": [
    {
     "data": {
      "text/plain": [
       "[99, 100, 'R', 'Python']"
      ]
     },
     "execution_count": 36,
     "metadata": {},
     "output_type": "execute_result"
    }
   ],
   "source": [
    "ls "
   ]
  },
  {
   "cell_type": "code",
   "execution_count": 43,
   "id": "de4aae20",
   "metadata": {},
   "outputs": [],
   "source": [
    "ds_requirements = [\"linear algebra\",\"multivariable calculus\", \"Probability distributions\"]"
   ]
  },
  {
   "cell_type": "code",
   "execution_count": 44,
   "id": "260e9a32",
   "metadata": {},
   "outputs": [],
   "source": [
    "ds_requirements.extend([\"Python\",\"R\"])"
   ]
  },
  {
   "cell_type": "code",
   "execution_count": 45,
   "id": "8c2800bd",
   "metadata": {},
   "outputs": [
    {
     "data": {
      "text/plain": [
       "['linear algebra',\n",
       " 'multivariable calculus',\n",
       " 'Probability distributions',\n",
       " 'Python',\n",
       " 'R']"
      ]
     },
     "execution_count": 45,
     "metadata": {},
     "output_type": "execute_result"
    }
   ],
   "source": [
    "ds_requirements ## did not add the elements as a list but added individually."
   ]
  },
  {
   "cell_type": "code",
   "execution_count": 46,
   "id": "7ec36c93",
   "metadata": {},
   "outputs": [],
   "source": [
    "ds_requirements.insert(3, \"Machine Learning\") ## inserted an element \"Machine Learning\" at the position 4."
   ]
  },
  {
   "cell_type": "code",
   "execution_count": 48,
   "id": "184b766f",
   "metadata": {},
   "outputs": [
    {
     "data": {
      "text/plain": [
       "['__add__',\n",
       " '__class__',\n",
       " '__class_getitem__',\n",
       " '__contains__',\n",
       " '__delattr__',\n",
       " '__delitem__',\n",
       " '__dir__',\n",
       " '__doc__',\n",
       " '__eq__',\n",
       " '__format__',\n",
       " '__ge__',\n",
       " '__getattribute__',\n",
       " '__getitem__',\n",
       " '__gt__',\n",
       " '__hash__',\n",
       " '__iadd__',\n",
       " '__imul__',\n",
       " '__init__',\n",
       " '__init_subclass__',\n",
       " '__iter__',\n",
       " '__le__',\n",
       " '__len__',\n",
       " '__lt__',\n",
       " '__mul__',\n",
       " '__ne__',\n",
       " '__new__',\n",
       " '__reduce__',\n",
       " '__reduce_ex__',\n",
       " '__repr__',\n",
       " '__reversed__',\n",
       " '__rmul__',\n",
       " '__setattr__',\n",
       " '__setitem__',\n",
       " '__sizeof__',\n",
       " '__str__',\n",
       " '__subclasshook__',\n",
       " 'append',\n",
       " 'clear',\n",
       " 'copy',\n",
       " 'count',\n",
       " 'extend',\n",
       " 'index',\n",
       " 'insert',\n",
       " 'pop',\n",
       " 'remove',\n",
       " 'reverse',\n",
       " 'sort']"
      ]
     },
     "execution_count": 48,
     "metadata": {},
     "output_type": "execute_result"
    }
   ],
   "source": [
    "dir(ds_requirements)"
   ]
  },
  {
   "cell_type": "code",
   "execution_count": 47,
   "id": "4ceaca20",
   "metadata": {},
   "outputs": [
    {
     "data": {
      "text/plain": [
       "['linear algebra',\n",
       " 'multivariable calculus',\n",
       " 'Probability distributions',\n",
       " 'Machine Learning',\n",
       " 'Python',\n",
       " 'R']"
      ]
     },
     "execution_count": 47,
     "metadata": {},
     "output_type": "execute_result"
    }
   ],
   "source": [
    "ds_requirements"
   ]
  },
  {
   "cell_type": "code",
   "execution_count": null,
   "id": "733d7c42",
   "metadata": {},
   "outputs": [],
   "source": [
    "ds_requirements.remove(\"Machine Learning\") ## remove an element"
   ]
  },
  {
   "cell_type": "markdown",
   "id": "160a5ec0",
   "metadata": {},
   "source": [
    "## Tuples\n",
    "\n",
    "- Tuples are ordered\n",
    "- Tuples are immutable"
   ]
  },
  {
   "cell_type": "code",
   "execution_count": null,
   "id": "17c0c31a",
   "metadata": {},
   "outputs": [],
   "source": [
    "##Tuples are defined by enclosing the elements in parentheses (()) instead of square brackets ([])\n",
    "## All elements of the tuple could be of same data type or they could be of different data type."
   ]
  },
  {
   "cell_type": "code",
   "execution_count": 50,
   "id": "8e8bdf94",
   "metadata": {},
   "outputs": [
    {
     "name": "stdout",
     "output_type": "stream",
     "text": [
      "<class 'tuple'> <class 'tuple'> <class 'int'> <class 'tuple'>\n"
     ]
    }
   ],
   "source": [
    "t = () ## this is empty tuple. There is o ambiguity defining empty tuple.\n",
    "type(t)\n",
    "t1 = (2,3)  ## there is no ambiguity when defining the tuple with two or more elements.\n",
    "type(t1)\n",
    "t2 = (5)    ## this is integer not tuple\n",
    "t3 = (5,)   ## this is the correct way to create the tuple with a single element.\n",
    "print(type(t), type(t1),type(t2),type(t3))"
   ]
  },
  {
   "cell_type": "code",
   "execution_count": 51,
   "id": "700f4b72",
   "metadata": {},
   "outputs": [],
   "source": [
    "tup1 = (5, 2, 3, 100, 54) "
   ]
  },
  {
   "cell_type": "code",
   "execution_count": 58,
   "id": "3be98b02",
   "metadata": {},
   "outputs": [
    {
     "data": {
      "text/plain": [
       "tuple"
      ]
     },
     "execution_count": 58,
     "metadata": {},
     "output_type": "execute_result"
    }
   ],
   "source": [
    "type(tup1)"
   ]
  },
  {
   "cell_type": "code",
   "execution_count": 60,
   "id": "c33f5cf8",
   "metadata": {},
   "outputs": [],
   "source": [
    "tup2 = (\"Imran\", 757, 100.50, True)  ## all elements are of different data types."
   ]
  },
  {
   "cell_type": "code",
   "execution_count": 68,
   "id": "6743ca05",
   "metadata": {},
   "outputs": [
    {
     "data": {
      "text/plain": [
       "['Python', 757, 100.5, True]"
      ]
     },
     "execution_count": 68,
     "metadata": {},
     "output_type": "execute_result"
    }
   ],
   "source": [
    "tup2"
   ]
  },
  {
   "cell_type": "code",
   "execution_count": 67,
   "id": "9856c847",
   "metadata": {},
   "outputs": [],
   "source": [
    "tup2[0] = \"Python\" ## Why are we getting error"
   ]
  },
  {
   "cell_type": "code",
   "execution_count": 69,
   "id": "bd327ac9",
   "metadata": {},
   "outputs": [
    {
     "data": {
      "text/plain": [
       "['__add__',\n",
       " '__class__',\n",
       " '__class_getitem__',\n",
       " '__contains__',\n",
       " '__delattr__',\n",
       " '__dir__',\n",
       " '__doc__',\n",
       " '__eq__',\n",
       " '__format__',\n",
       " '__ge__',\n",
       " '__getattribute__',\n",
       " '__getitem__',\n",
       " '__getnewargs__',\n",
       " '__gt__',\n",
       " '__hash__',\n",
       " '__init__',\n",
       " '__init_subclass__',\n",
       " '__iter__',\n",
       " '__le__',\n",
       " '__len__',\n",
       " '__lt__',\n",
       " '__mul__',\n",
       " '__ne__',\n",
       " '__new__',\n",
       " '__reduce__',\n",
       " '__reduce_ex__',\n",
       " '__repr__',\n",
       " '__rmul__',\n",
       " '__setattr__',\n",
       " '__sizeof__',\n",
       " '__str__',\n",
       " '__subclasshook__',\n",
       " 'count',\n",
       " 'index']"
      ]
     },
     "execution_count": 69,
     "metadata": {},
     "output_type": "execute_result"
    }
   ],
   "source": [
    "dir(tuple) ## tuples dont have extend, insert, remove and append methods because these are modifying methods."
   ]
  },
  {
   "cell_type": "code",
   "execution_count": 70,
   "id": "57aa863f",
   "metadata": {},
   "outputs": [
    {
     "name": "stdout",
     "output_type": "stream",
     "text": [
      "a\t b\t bigger_list\t ds_requirements\t ls\t no_unique\t numeric_list\t numeric_nestedlist\t programming\t \n",
      "t\t t1\t t2\t t3\t tup1\t tup2\t varying_data_type\t \n"
     ]
    }
   ],
   "source": [
    "%who \n",
    "\n",
    "##In Jupyter Notebook, you can use the %who magic command to display the variables that exist in the current namespace. \n",
    "##This command lists all the interactive variables, functions, and modules that have been defined."
   ]
  },
  {
   "cell_type": "code",
   "execution_count": 71,
   "id": "8daa0a0d",
   "metadata": {},
   "outputs": [
    {
     "name": "stdout",
     "output_type": "stream",
     "text": [
      "Variable             Type     Data/Info\n",
      "---------------------------------------\n",
      "a                    list     n=3\n",
      "b                    list     n=4\n",
      "bigger_list          list     n=7\n",
      "ds_requirements      list     n=6\n",
      "ls                   list     n=4\n",
      "no_unique            list     n=4\n",
      "numeric_list         list     n=5\n",
      "numeric_nestedlist   list     n=6\n",
      "programming          list     n=4\n",
      "t                    tuple    n=0\n",
      "t1                   tuple    n=2\n",
      "t2                   int      5\n",
      "t3                   tuple    n=1\n",
      "tup1                 tuple    n=5\n",
      "tup2                 list     n=4\n",
      "varying_data_type    list     n=4\n"
     ]
    }
   ],
   "source": [
    "%whos\n",
    "\n",
    "##ou can also use the %whos magic command to get more detailed information about the variables, \n",
    "##including their values and other attributes."
   ]
  },
  {
   "cell_type": "code",
   "execution_count": null,
   "id": "7e9ebe7a",
   "metadata": {},
   "outputs": [],
   "source": [
    "\n"
   ]
  },
  {
   "cell_type": "markdown",
   "id": "bae3c101",
   "metadata": {},
   "source": [
    "## Tuple packing and unpacking"
   ]
  },
  {
   "cell_type": "markdown",
   "id": "442bbea1",
   "metadata": {},
   "source": [
    "**Tuple packing** refers to the process of packing multiple values into a tuple. This is done by separating the values with commas, and Python automatically creates a tuple.\n",
    "\n",
    "**Tuple unpacking** involves extracting values from a tuple and assigning them to variables. The number of variables on the left-hand side of the assignment must match the number of elements in the tuple"
   ]
  },
  {
   "cell_type": "code",
   "execution_count": 80,
   "id": "579ce9d3",
   "metadata": {},
   "outputs": [
    {
     "name": "stdout",
     "output_type": "stream",
     "text": [
      "(1, 'Hello', 3.14)\n"
     ]
    }
   ],
   "source": [
    "# Tuple packing\n",
    "my_tuple = (1, \"Hello\", 3.14)\n",
    "\n",
    "print(my_tuple)\n",
    "\n"
   ]
  },
  {
   "cell_type": "code",
   "execution_count": 73,
   "id": "b626205d",
   "metadata": {},
   "outputs": [
    {
     "name": "stdout",
     "output_type": "stream",
     "text": [
      "1\n",
      "Hello\n",
      "3.14\n"
     ]
    }
   ],
   "source": [
    "# Tuple unpacking\n",
    "a, b, c = my_tuple\n",
    "\n",
    "print(a) \n",
    "print(b)  \n",
    "print(c)\n"
   ]
  },
  {
   "cell_type": "code",
   "execution_count": 75,
   "id": "b9205f35",
   "metadata": {},
   "outputs": [],
   "source": [
    "t = ('foo', 'bar', 'baz', [\"R\",\"Python\"]) "
   ]
  },
  {
   "cell_type": "code",
   "execution_count": 76,
   "id": "cf577b8d",
   "metadata": {},
   "outputs": [],
   "source": [
    "s1, s2, s3, s4 = t #When unpacking, the number of variables on the left must match the number of values in the tuple"
   ]
  },
  {
   "cell_type": "code",
   "execution_count": 78,
   "id": "8d8afbba",
   "metadata": {},
   "outputs": [
    {
     "name": "stdout",
     "output_type": "stream",
     "text": [
      "foo bar baz ['R', 'Python']\n"
     ]
    }
   ],
   "source": [
    "print(s1, s2, s3, s4)"
   ]
  },
  {
   "cell_type": "code",
   "execution_count": null,
   "id": "6038f3a4",
   "metadata": {},
   "outputs": [],
   "source": [
    "s1, s2, s3, s4 = ('foo', 'bar', 'baz', 'qux')  "
   ]
  },
  {
   "cell_type": "markdown",
   "id": "78c6a5a1",
   "metadata": {},
   "source": [
    "## Set\n",
    "\n",
    "- Sets are **unordered**.\n",
    "- Set elements are **unique**. Duplicate elements are not allowed.\n",
    "- A set itself may be modified, but the elements contained in the set must be of an **immutable type**."
   ]
  },
  {
   "cell_type": "code",
   "execution_count": null,
   "id": "34c1037f",
   "metadata": {},
   "outputs": [],
   "source": [
    "## a set can be thought of simply as a well-defined collection of \"distinct objects\", typically called elements or members.\n",
    "## Sets are distinguished from other object types by the unique operations that can be performed on them."
   ]
  },
  {
   "cell_type": "code",
   "execution_count": null,
   "id": "570e1fb9",
   "metadata": {},
   "outputs": [],
   "source": [
    "##Two ways of creating set\n",
    "## 1.    x = set(<iter>) ## the argument <iter> should be iterable like list and tuple\n",
    "## 2.    abc = {28, 24, 32, 100} ## with curly braces"
   ]
  },
  {
   "cell_type": "code",
   "execution_count": 81,
   "id": "2f96e548",
   "metadata": {},
   "outputs": [],
   "source": [
    "p = set(['foo', 'bar', 'baz', 'foo', 'qux']) ## set from list data structure"
   ]
  },
  {
   "cell_type": "code",
   "execution_count": 83,
   "id": "4dab01a5",
   "metadata": {},
   "outputs": [],
   "source": [
    "zee = {1, 1.0, 2, 2.0}"
   ]
  },
  {
   "cell_type": "code",
   "execution_count": 84,
   "id": "5018c322",
   "metadata": {},
   "outputs": [
    {
     "data": {
      "text/plain": [
       "{1, 2}"
      ]
     },
     "execution_count": 84,
     "metadata": {},
     "output_type": "execute_result"
    }
   ],
   "source": [
    "zee"
   ]
  },
  {
   "cell_type": "code",
   "execution_count": 85,
   "id": "024a9837",
   "metadata": {},
   "outputs": [],
   "source": [
    "q = set(('foo', 'bar', 'baz', 'foo', 'qux')) ## set from tuple data structure"
   ]
  },
  {
   "cell_type": "code",
   "execution_count": 86,
   "id": "f8ed7e3b",
   "metadata": {},
   "outputs": [
    {
     "name": "stdout",
     "output_type": "stream",
     "text": [
      "{'foo', 'baz', 'bar', 'qux'}\n"
     ]
    }
   ],
   "source": [
    "print(p)   ## the original order is not preserved in the set. Order does not matter"
   ]
  },
  {
   "cell_type": "code",
   "execution_count": 87,
   "id": "4917a810",
   "metadata": {},
   "outputs": [
    {
     "data": {
      "text/plain": [
       "{'R', 'a', 'c', 'h', 'n'}"
      ]
     },
     "execution_count": 87,
     "metadata": {},
     "output_type": "execute_result"
    }
   ],
   "source": [
    "##Strings are also iterable, so a string can be passed to set() as well\n",
    "\n",
    "set(\"Rachana\")"
   ]
  },
  {
   "cell_type": "code",
   "execution_count": 88,
   "id": "e5157602",
   "metadata": {},
   "outputs": [],
   "source": [
    "q = {'foo', 'bar', 'baz', 'foo', 'qux'} ## repetitive elements in set will be removed automatically."
   ]
  },
  {
   "cell_type": "code",
   "execution_count": 89,
   "id": "2ac9f0ef",
   "metadata": {},
   "outputs": [],
   "source": [
    "r = {'q', 'u', 'u', 'x'}"
   ]
  },
  {
   "cell_type": "code",
   "execution_count": 90,
   "id": "cfdb545a",
   "metadata": {},
   "outputs": [
    {
     "name": "stdout",
     "output_type": "stream",
     "text": [
      "<class 'dict'> <class 'set'>\n"
     ]
    }
   ],
   "source": [
    "## A set can be empty. What is the proper way to define empty set\n",
    "\n",
    "empty_set1 = {}     ## empty curly braces are not set. This is empty dicitionary\n",
    "empty_set2 = set()  ## proper way to define empty set\n",
    "\n",
    "print(type(empty_set1), type(empty_set2))"
   ]
  },
  {
   "cell_type": "code",
   "execution_count": null,
   "id": "9e5109f5",
   "metadata": {},
   "outputs": [],
   "source": [
    "## What is empty set in boolean context? How to check? Recall "
   ]
  },
  {
   "cell_type": "code",
   "execution_count": 94,
   "id": "ab928bd8",
   "metadata": {},
   "outputs": [
    {
     "data": {
      "text/plain": [
       "True"
      ]
     },
     "execution_count": 94,
     "metadata": {},
     "output_type": "execute_result"
    }
   ],
   "source": [
    "bool([5,4])"
   ]
  },
  {
   "cell_type": "code",
   "execution_count": 95,
   "id": "92d3d14c",
   "metadata": {},
   "outputs": [],
   "source": [
    "S1 = {2, 4, 6, 8, 10}   ## all the elements are of same data type in the two sets in this cell. could be of different data type.\n",
    "s2 = {'Smith', 'McArthur', 'Wilson', 'Johansson'}"
   ]
  },
  {
   "cell_type": "code",
   "execution_count": null,
   "id": "bed7e5b0",
   "metadata": {},
   "outputs": [],
   "source": [
    "different_elements = {42, 'foo', 3.14159, None}"
   ]
  },
  {
   "cell_type": "code",
   "execution_count": null,
   "id": "5eabc020",
   "metadata": {},
   "outputs": [],
   "source": [
    "## We can only include immutable elements in the set. We can include tuple as an element but not list and dictionary as an\n",
    "## element in Python'set.\n",
    "g = {42, 'foo', (1, 2, 3), 3.14159}\n"
   ]
  },
  {
   "cell_type": "code",
   "execution_count": null,
   "id": "76f3c239",
   "metadata": {},
   "outputs": [],
   "source": [
    "g"
   ]
  },
  {
   "cell_type": "code",
   "execution_count": null,
   "id": "0ed8517b",
   "metadata": {},
   "outputs": [],
   "source": [
    "g = {42, 'foo', [1, 2, 3], 3.14159} ## This will give you error."
   ]
  },
  {
   "cell_type": "code",
   "execution_count": null,
   "id": "10c07e0d",
   "metadata": {},
   "outputs": [],
   "source": [
    "len(g) ## length of set"
   ]
  },
  {
   "cell_type": "code",
   "execution_count": null,
   "id": "bfe5d62a",
   "metadata": {},
   "outputs": [],
   "source": [
    "\"foo\" in g  ## membership operator"
   ]
  },
  {
   "cell_type": "markdown",
   "id": "c5b0121c",
   "metadata": {},
   "source": [
    "Most, though not quite all, set operations in Python can be performed in two different ways: **by operator or by method**"
   ]
  },
  {
   "cell_type": "code",
   "execution_count": 99,
   "id": "46419c75",
   "metadata": {},
   "outputs": [],
   "source": [
    "x1 = {'foo', 'bar', 'baz'}\n",
    "x2 = ('baz', 'qux', 'quux')"
   ]
  },
  {
   "cell_type": "code",
   "execution_count": 101,
   "id": "500af9a8",
   "metadata": {},
   "outputs": [
    {
     "ename": "TypeError",
     "evalue": "unsupported operand type(s) for |: 'set' and 'tuple'",
     "output_type": "error",
     "traceback": [
      "\u001b[1;31m---------------------------------------------------------------------------\u001b[0m",
      "\u001b[1;31mTypeError\u001b[0m                                 Traceback (most recent call last)",
      "Cell \u001b[1;32mIn[101], line 1\u001b[0m\n\u001b[1;32m----> 1\u001b[0m \u001b[43mx1\u001b[49m\u001b[43m \u001b[49m\u001b[38;5;241;43m|\u001b[39;49m\u001b[43m \u001b[49m\u001b[43mx2\u001b[49m   \u001b[38;5;66;03m## union operator. Both operands must be set. Combines the unique combination of elements in two sets. \u001b[39;00m\n",
      "\u001b[1;31mTypeError\u001b[0m: unsupported operand type(s) for |: 'set' and 'tuple'"
     ]
    }
   ],
   "source": [
    "x1 | x2   ## union operator. Both operands must be set. Combines the unique combination of elements in two sets. "
   ]
  },
  {
   "cell_type": "code",
   "execution_count": 100,
   "id": "2734c764",
   "metadata": {},
   "outputs": [
    {
     "data": {
      "text/plain": [
       "{'bar', 'baz', 'foo', 'quux', 'qux'}"
      ]
     },
     "execution_count": 100,
     "metadata": {},
     "output_type": "execute_result"
    }
   ],
   "source": [
    "x1.union(x2)"
   ]
  },
  {
   "cell_type": "code",
   "execution_count": null,
   "id": "47fe7841",
   "metadata": {},
   "outputs": [],
   "source": [
    "x3 = (1, 2, 3, 4)\n",
    "\n",
    "x1 | x3    ## Why am I getting error? Both operands not set."
   ]
  },
  {
   "cell_type": "code",
   "execution_count": null,
   "id": "0a6bddc4",
   "metadata": {},
   "outputs": [],
   "source": [
    "## union method\n",
    "x1.union(x3)    ## the argument to the union could be any iterable list, tuple, dicitonary"
   ]
  },
  {
   "cell_type": "code",
   "execution_count": null,
   "id": "f6852721",
   "metadata": {},
   "outputs": [],
   "source": [
    "dir(set)"
   ]
  },
  {
   "cell_type": "code",
   "execution_count": null,
   "id": "5a209c71",
   "metadata": {},
   "outputs": [],
   "source": [
    "## Union of more than two sets through union operator and by union method.\n",
    "\n",
    "a = {1, 2, 3, 4}\n",
    "b = {2, 3, 4, 5}\n",
    "c = {3, 4, 5, 6}\n",
    "d = {4, 5, 6, 7}\n",
    "\n",
    "c.union(a, d, b)\n",
    "{1, 2, 3, 4, 5, 6, 7}\n",
    "\n",
    "a | b | c | d"
   ]
  },
  {
   "cell_type": "code",
   "execution_count": null,
   "id": "e542a725",
   "metadata": {},
   "outputs": [],
   "source": [
    "dir(set)  ## all the methods avaible for sets."
   ]
  },
  {
   "cell_type": "code",
   "execution_count": null,
   "id": "44af9898",
   "metadata": {},
   "outputs": [],
   "source": [
    "## Intersection operator and method\n"
   ]
  },
  {
   "cell_type": "code",
   "execution_count": null,
   "id": "7eba7c8a",
   "metadata": {},
   "outputs": [],
   "source": [
    "y1 = {'foo', 'bar', 'baz'}\n",
    "y2 = {'baz', 'qux', 'quux'}"
   ]
  },
  {
   "cell_type": "code",
   "execution_count": null,
   "id": "fb026d4f",
   "metadata": {},
   "outputs": [],
   "source": [
    "y2.intersection(y1)  ## intersection method"
   ]
  },
  {
   "cell_type": "code",
   "execution_count": null,
   "id": "ffc65dfe",
   "metadata": {},
   "outputs": [],
   "source": [
    "y1 & y2         ## intersection operator"
   ]
  },
  {
   "cell_type": "code",
   "execution_count": null,
   "id": "1226f1a7",
   "metadata": {},
   "outputs": [],
   "source": [
    "## Intersection of multiple sets by operator and method\n",
    "\n",
    "a = {1, 2, 3, 4}\n",
    "b = {2, 3, 4, 5}\n",
    "c = {3, 4, 5, 6}\n",
    "d = {4, 5, 6, 7}\n",
    "\n",
    "d.intersection(a, c, b)\n",
    "\n",
    "\n",
    "a & b & c & d"
   ]
  },
  {
   "cell_type": "code",
   "execution_count": null,
   "id": "70a034b8",
   "metadata": {},
   "outputs": [],
   "source": [
    "## Set difference \n",
    "\n",
    "x1 = {'foo', 'bar', 'baz'}\n",
    "x2 = {'baz', 'qux', 'quux'}\n",
    "\n",
    "x1.difference(x2) ## difference method. all the elements in x1 that are not in x2\n",
    "\n",
    "\n",
    "x1 - x2          ## difference operator\n"
   ]
  },
  {
   "cell_type": "code",
   "execution_count": null,
   "id": "f06af1e0",
   "metadata": {},
   "outputs": [],
   "source": [
    "##Differencing multiple sets\n",
    "a = {1, 2, 3, 30, 300}\n",
    "b = {10, 20, 30, 40}\n",
    "c = {100, 200, 300, 400}\n",
    "\n",
    "a.difference(b, c) ## all the elements in set a that are not in b and c\n",
    "\n",
    "\n",
    "a - b - c   ## do differencing from left to right\n"
   ]
  },
  {
   "cell_type": "code",
   "execution_count": null,
   "id": "e157a515",
   "metadata": {},
   "outputs": [],
   "source": [
    "## Modifying a set\n",
    "\n",
    "## Although the elements contained in a set must be of immutable type, sets themselves can be modified\n",
    "\n",
    "## Modify a set by union\n",
    "##x1.update(x2[, x3 ...])\n",
    "##x1.update(x2) and x1 |= x2 add to x1 any elements in x2 that x1 does not already have\n",
    "\n",
    "## Modify a set by intersection\n",
    "## x1.intersection_update(x2) and x1 &= x2 update x1, retaining only elements found in both x1 and x2\n",
    "\n",
    "## Modify a set by difference\n",
    "##x1.difference_update(x2) and x1 -= x2 update x1, removing elements found in x2\n",
    "\n",
    "## Other methods to modify set\n",
    "\n",
    "##Adds an element to a set\n",
    "##x.add(<elem>) adds <elem>, which must be a single immutable object, to x\n",
    "\n",
    "##Removes an element from a set\n",
    "##x.remove(<elem>) removes <elem> from x. Python raises an exception if <elem> is not in x\n",
    "\n",
    "##Removes a random element from a set\n",
    "##x.pop() removes and returns an arbitrarily chosen element from x. If x is empty, x.pop() raises an exception\n",
    "\n",
    "##Clears a set\n",
    "##x.clear() removes all elements from x. The set becomes empty."
   ]
  },
  {
   "cell_type": "markdown",
   "id": "71062aa4",
   "metadata": {},
   "source": [
    "## Dictionary\n",
    "\n",
    "A dictionary is a built-in data type that represents an unordered collection of key-value pairs.Dictionaries are incredibly useful for storing and retrieving data efficiently, as they provide fast access to values based on their associated keys"
   ]
  },
  {
   "cell_type": "markdown",
   "id": "6677a0a9",
   "metadata": {},
   "source": [
    "**Unordered**: Dictionaries are unordered collections, which means that the elements are not stored in any particular order. Unlike lists or tuples that are indexed by position, dictionaries are indexed by keys.\n",
    "\n",
    "**Mutable**: Dictionaries are mutable, meaning you can modify, add, or remove key-value pairs after the dictionary is created. This allows for dynamic updates to the dictionary.\n",
    "\n",
    "**Key-Value Pairs**: Dictionaries consist of key-value pairs, where each key is unique and associated with a value. The key serves as an identifier or label for accessing the corresponding value. Values in a dictionary can be of any data type, and they can be duplicated.\n",
    "\n",
    "**Key-Based Access**: Dictionary values are accessed using their corresponding keys rather than positions or indices. This key-based access allows for efficient retrieval of values, especially when dealing with large amounts of data.\n",
    "\n",
    "**Key Immutability**: Dictionary keys must be immutable objects, meaning they cannot be changed once they are assigned. Common key types include strings, numbers, and tuples (as long as they contain immutable elements).\n",
    "\n",
    "**Dynamic Size**: Dictionaries can dynamically grow or shrink as key-value pairs are added or removed. The size of a dictionary is not fixed, allowing for flexible storage and manipulation of data.\n",
    "\n",
    "**No Duplicate Keys**: Dictionaries do not allow duplicate keys. If you attempt to assign a value to an existing key, it will update the associated value rather than creating a duplicate entry.\n",
    "\n",
    "**Iteration**: Dictionaries can be iterated using loops to access all the keys or values, or both, using methods such as keys(), values(), or items().\n",
    "\n",
    "Efficient Search: Due to their hash table implementation, dictionaries provide fast search operations. Instead of iterating through all the elements, dictionaries use the key's hash value to quickly locate the associated value.\n",
    "\n"
   ]
  },
  {
   "cell_type": "code",
   "execution_count": 102,
   "id": "14c7aa01",
   "metadata": {},
   "outputs": [],
   "source": [
    "my_dict = {\"name\": \"John\", \"age\": 25, \"city\": \"New York\"}"
   ]
  },
  {
   "cell_type": "markdown",
   "id": "de280908",
   "metadata": {},
   "source": [
    "**Syntax**: A dictionary is created using curly braces {} or the built-in dict() function. Each key-value pair is separated by a colon (:), and different pairs are separated by commas."
   ]
  },
  {
   "cell_type": "markdown",
   "id": "578dca7b",
   "metadata": {},
   "source": [
    "**Keys**: Keys in a dictionary must be unique and immutable, meaning they cannot be changed once created. Common key types include strings, numbers, and tuples (as long as they contain immutable elements)."
   ]
  },
  {
   "cell_type": "code",
   "execution_count": 105,
   "id": "68152eb1",
   "metadata": {},
   "outputs": [],
   "source": [
    "my_dict = {\"name\": \"John\", 42: \"forty-two\", (1, 2): \"tuple key\", True: \"boolean key\"}\n"
   ]
  },
  {
   "cell_type": "code",
   "execution_count": 109,
   "id": "79b7a49f",
   "metadata": {},
   "outputs": [
    {
     "data": {
      "text/plain": [
       "'forty-two'"
      ]
     },
     "execution_count": 109,
     "metadata": {},
     "output_type": "execute_result"
    }
   ],
   "source": [
    "my_dict[42]"
   ]
  },
  {
   "cell_type": "code",
   "execution_count": 110,
   "id": "d1cc822f",
   "metadata": {},
   "outputs": [
    {
     "name": "stdout",
     "output_type": "stream",
     "text": [
      "John\n",
      "forty-two\n",
      "tuple key\n",
      "boolean key\n"
     ]
    }
   ],
   "source": [
    "print(my_dict[\"name\"])      # Output: John\n",
    "print(my_dict[42])         # Output: forty-two\n",
    "print(my_dict[(1, 2)])     # Output: tuple key\n",
    "print(my_dict[True])       # Output: boolean key"
   ]
  },
  {
   "cell_type": "markdown",
   "id": "355a25fb",
   "metadata": {},
   "source": [
    "**Values**: Values in a dictionary can be of any type, and they can be changed or duplicated. This means that a dictionary can contain different value types for different keys. For example"
   ]
  },
  {
   "cell_type": "code",
   "execution_count": null,
   "id": "982ee73b",
   "metadata": {},
   "outputs": [],
   "source": [
    "my_dict = {\"name\": \"John\", \"age\": 25, \"grades\": [85, 90, 92]}"
   ]
  },
  {
   "cell_type": "markdown",
   "id": "c5ab7dc8",
   "metadata": {},
   "source": [
    "**Accessing Values**: To retrieve a value from a dictionary, you can use square brackets [] with the corresponding key. If the key doesn't exist, it will raise a KeyError. Alternatively, you can use the get() method, which returns None if the key is not found. Here are examples of both methods"
   ]
  },
  {
   "cell_type": "code",
   "execution_count": 111,
   "id": "840911df",
   "metadata": {},
   "outputs": [
    {
     "name": "stdout",
     "output_type": "stream",
     "text": [
      "John\n",
      "25\n"
     ]
    }
   ],
   "source": [
    "my_dict = {\"name\": \"John\", \"age\": 25, \"city\": \"New York\"}\n",
    "\n",
    "# Using square brackets\n",
    "print(my_dict[\"name\"])  # Output: John\n",
    "\n",
    "# Using get() method\n",
    "print(my_dict.get(\"age\"))  # Output: 25"
   ]
  },
  {
   "cell_type": "markdown",
   "id": "2d0a0fed",
   "metadata": {},
   "source": [
    "**Modifying Values**: You can modify the value associated with a specific key by assigning a new value to that key. If the key doesn't exist, it will be added to the dictionary. Here's an example:"
   ]
  },
  {
   "cell_type": "code",
   "execution_count": 112,
   "id": "dc8dbd20",
   "metadata": {},
   "outputs": [
    {
     "name": "stdout",
     "output_type": "stream",
     "text": [
      "{'name': 'John', 'age': 26, 'city': 'New York', 'gender': 'Male'}\n"
     ]
    }
   ],
   "source": [
    "my_dict = {\"name\": \"John\", \"age\": 25, \"city\": \"New York\"}\n",
    "\n",
    "my_dict[\"age\"] = 26  # Modifying an existing value\n",
    "my_dict[\"gender\"] = \"Male\"  # Adding a new key-value pair\n",
    "\n",
    "print(my_dict)  # Output: {'name': 'John', 'age': 26, 'city': 'New York', 'gender': 'Male'}\n"
   ]
  },
  {
   "cell_type": "markdown",
   "id": "40bb6604",
   "metadata": {},
   "source": [
    "**Dictionary Methods**: Python dictionaries come with several built-in methods for performing various operations. Some commonly used methods include keys(), values(), items(), pop(), popitem(), clear(), copy(), and more. Here's an example of using some of these methods"
   ]
  },
  {
   "cell_type": "code",
   "execution_count": 113,
   "id": "4f2dc674",
   "metadata": {},
   "outputs": [
    {
     "name": "stdout",
     "output_type": "stream",
     "text": [
      "['name', 'age', 'city']\n",
      "['John', 25, 'New York']\n",
      "[('name', 'John'), ('age', 25), ('city', 'New York')]\n",
      "{'name': 'John', 'city': 'New York'}\n"
     ]
    }
   ],
   "source": [
    "my_dict = {\"name\": \"John\", \"age\": 25, \"city\": \"New York\"}\n",
    "\n",
    "print(list(my_dict.keys()))  # Output: dict_keys(['name', 'age', 'city'])\n",
    "print(list(my_dict.values()))  # Output: dict_values(['John', 25, 'New York'])\n",
    "print(list(my_dict.items()))  # Output: dict_items([('name', 'John'), ('age', 25), ('city', 'New York')])\n",
    "\n",
    "my_dict.pop(\"age\")  # Removes the key-value pair with key \"age\"\n",
    "print(my_dict)\n"
   ]
  },
  {
   "cell_type": "code",
   "execution_count": null,
   "id": "b78c41af",
   "metadata": {},
   "outputs": [],
   "source": [
    "dir(my_dict)"
   ]
  },
  {
   "cell_type": "markdown",
   "id": "482ccb65",
   "metadata": {},
   "source": [
    "### Quick check: How do you know whether the basic data type (or composite data type) is immutable?"
   ]
  },
  {
   "cell_type": "code",
   "execution_count": null,
   "id": "32c5ce93",
   "metadata": {},
   "outputs": [],
   "source": [
    "## When you want to modify the immutable object, you create the new object \n",
    "## with different id()\n",
    "x = 10\n",
    "print(id(x))\n",
    "x += 1\n",
    "print(id(x))\n"
   ]
  },
  {
   "cell_type": "code",
   "execution_count": null,
   "id": "01ce645e",
   "metadata": {},
   "outputs": [],
   "source": [
    "s = \"Hello\"\n",
    "print(id(s))\n",
    "s += \" World\"\n",
    "print(id(s))"
   ]
  },
  {
   "cell_type": "code",
   "execution_count": null,
   "id": "8647adfa",
   "metadata": {},
   "outputs": [],
   "source": [
    "t = (1, 2, 3)\n",
    "print(id(t))\n",
    "t += (4,)\n",
    "print(id(t))\n"
   ]
  },
  {
   "cell_type": "code",
   "execution_count": null,
   "id": "4f36356b",
   "metadata": {},
   "outputs": [],
   "source": [
    "l = [1, 2, 3, 4]\n",
    "print(id(l))\n",
    "l += [4,5]\n",
    "print(id(l))"
   ]
  }
 ],
 "metadata": {
  "kernelspec": {
   "display_name": "Python 3 (ipykernel)",
   "language": "python",
   "name": "python3"
  },
  "language_info": {
   "codemirror_mode": {
    "name": "ipython",
    "version": 3
   },
   "file_extension": ".py",
   "mimetype": "text/x-python",
   "name": "python",
   "nbconvert_exporter": "python",
   "pygments_lexer": "ipython3",
   "version": "3.10.11"
  }
 },
 "nbformat": 4,
 "nbformat_minor": 5
}
