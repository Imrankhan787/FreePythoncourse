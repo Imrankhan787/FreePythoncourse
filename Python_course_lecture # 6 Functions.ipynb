{
 "cells": [
  {
   "cell_type": "markdown",
   "id": "2c019f2f",
   "metadata": {},
   "source": [
    "## FREE Python Programming Course\n",
    "\n",
    "- **Classes**: 26th December 2023 to 01st January 2024\n",
    "- **Timing** : 09:30 AM --1100 AM Eastern Standard Time (EST)\n",
    "- **Medidum of Instruction**: English\n",
    "- **Mode of delivering lecture**: Zoom\n",
    "\n",
    "Please like, follow, and share my Facebook Page. It will encourage me to offer more programming courses.\n",
    "https://www.facebook.com/LearnR4Datascience"
   ]
  },
  {
   "cell_type": "markdown",
   "id": "5ee341ef",
   "metadata": {},
   "source": [
    "## Lecture on Python's function:\n",
    "\n",
    "- What is a function?\n",
    "- Why to write functions?\n",
    "- What is functional programming? Just introduction\n",
    "- Using inbuilt functions\n",
    "- How to define function in Python? Brief explanation of general syntax\n",
    "- How to pass arguments to a function when calling a function?\n",
    "- Default argument versus required argument\n",
    "- How to write function with variable length of positional and keyword arguments? Why do we write functions with variable length  of positional and keyword arguments?\n",
    "- Anonymous functions. Why to write anonymous functions?\n",
    "- Writing our own functions that takes function as one of arguments\n",
    "- What would happen to the arguments outside the Python function once we pass them to the function? Do the values of the arguments get modified or not? Pass-by-value vs Pass-by-reference\n"
   ]
  },
  {
   "cell_type": "markdown",
   "id": "a8515e50",
   "metadata": {},
   "source": [
    "## Functions"
   ]
  },
  {
   "cell_type": "markdown",
   "id": "97c63523",
   "metadata": {},
   "source": [
    "Let us take a **big intellectual step** in programming course from using in-built function to writing our own functions. We have been using in-built functions from the very first lecture. For example, len(), type(), id(),any(), all(), bool() are all in-built Python's functions.\n",
    "\n",
    "There are thousand of Python's functions (or methods) available in different modules but we still need to write our own functions.\n",
    "\n",
    "Functions in programming promote\n",
    "- code modularity (single responsibility principle)\n",
    "- code reusability\n",
    "- abstraction (for users)\n",
    "- facilitate code maintainability\n",
    "\n",
    "When should we consider writing our own function: If we are copying-pasting the code **more than twice**, then we should actively consider writing our own function.\n",
    "\n",
    "What is function? In simple language, **function takes some input, perform some actions on input and returns a value**. Function users are not required to know the Python's code that goes into the body of the function. All the function users care about is the actual arguments the function take and the value it returns.\n",
    "\n",
    "In more technical terms, In formal language: Functions are often used to encapsulate a \"sequence of expressions\" that need to be executed numerous times, perhaps under \"slightly different conditions\". What do we mean by slightly different conditions?\n",
    "\n",
    "What is functional programming? All programming languages have functions but not all programming languages are \"functional\". Python has functional features. In order for the programming language to be functional, functions must be treated as a first-class object in the language. The first-class object  means many of the operations that we perform on other Python objects we can also perform on functions. \n",
    "\n",
    "- We can pass function as an argument to another function just like we pass list, tuple as an argument in another function.\n",
    "- We can use function in the body of another function just like we can use any other Python objects (list, tuple, dictionary,     int, str, float etc.) in the body of function.\n",
    "- We can return function from another function just like we can return any Python object from the function. \n",
    "\n",
    "\n"
   ]
  },
  {
   "cell_type": "code",
   "execution_count": 1,
   "id": "8f8c1f8c",
   "metadata": {},
   "outputs": [
    {
     "name": "stdout",
     "output_type": "stream",
     "text": [
      "I am a print statement\n",
      "I am a print statement\n",
      "I am a print statement\n"
     ]
    }
   ],
   "source": [
    "print(\"I am a print statement\")\n",
    "print(\"I am a print statement\")\n",
    "print(\"I am a print statement\")"
   ]
  },
  {
   "cell_type": "code",
   "execution_count": 2,
   "id": "33a17d72",
   "metadata": {},
   "outputs": [],
   "source": [
    "def my_func():\n",
    "    print(\"I am a print statement\")"
   ]
  },
  {
   "cell_type": "code",
   "execution_count": 3,
   "id": "3c5ba112",
   "metadata": {},
   "outputs": [
    {
     "name": "stdout",
     "output_type": "stream",
     "text": [
      "I am a print statement\n",
      "I am a print statement\n",
      "I am a print statement\n"
     ]
    }
   ],
   "source": [
    "my_func()\n",
    "my_func()\n",
    "my_func()"
   ]
  },
  {
   "cell_type": "code",
   "execution_count": 4,
   "id": "591e4cbe",
   "metadata": {},
   "outputs": [
    {
     "name": "stdout",
     "output_type": "stream",
     "text": [
      "2989127041552\n",
      "4\n",
      "False\n",
      "True\n"
     ]
    }
   ],
   "source": [
    "##Using inbuilt functions\n",
    "\n",
    "a = 10\n",
    "print(id(a))\n",
    "\n",
    "ls = [1,2,[4,5],[5,2]]\n",
    "print(len(ls))\n",
    "\n",
    "result1 = any([False, False, False, False, False])\n",
    "print(result1)\n",
    "\n",
    "result2 = all((True, True, True, True, True))\n",
    "print(result2)\n"
   ]
  },
  {
   "cell_type": "code",
   "execution_count": 5,
   "id": "ce18871c",
   "metadata": {},
   "outputs": [
    {
     "data": {
      "text/plain": [
       "True"
      ]
     },
     "execution_count": 5,
     "metadata": {},
     "output_type": "execute_result"
    }
   ],
   "source": [
    "any(['bar' == 'baz', len('foo') == 4, 'qux' not in {'foo', 'bar', 'baz'}])"
   ]
  },
  {
   "cell_type": "code",
   "execution_count": null,
   "id": "0f211829",
   "metadata": {},
   "outputs": [
    {
     "data": {
      "text/plain": [
       "True"
      ]
     },
     "execution_count": 6,
     "metadata": {},
     "output_type": "execute_result"
    }
   ],
   "source": [
    "any(['bar' == 'baz', len('foo') == 3, 'qux' in {'foo', 'bar', 'baz'}])"
   ]
  },
  {
   "cell_type": "code",
   "execution_count": null,
   "id": "b8582bef",
   "metadata": {},
   "outputs": [],
   "source": [
    "all([True,True,True]) #atleast one true for the output to be true"
   ]
  },
  {
   "cell_type": "code",
   "execution_count": 8,
   "id": "8615daf1",
   "metadata": {},
   "outputs": [],
   "source": [
    "word = \"America\"\n",
    "\n",
    "boolean_list = [char in [\"a\",\"e\",\"i\",\"o\",\"u\"] for char in word] ## wrap it in any() or all()\n",
    "print(boolean_list)"
   ]
  },
  {
   "cell_type": "markdown",
   "id": "b8c5e141",
   "metadata": {},
   "source": [
    "### Function definition syntax\n",
    "\n",
    "**def function_name(arg1, arg2, ...):**\n",
    "\n",
    "    # Function body\n",
    "    # Statements that perform the task\n",
    "\n",
    "    # Optional: Return a value\n",
    "    return result\n",
    "\n",
    " Function definition starts with def keyword followed by the function name subsequently followed by the parameters\n",
    " in the pair of round brackets follwed by colon. The code in the body of the function is indented. The function can use the  return statement to specify the value(s) to be returned to the caller. If no return statement\n",
    " is used, the function implicitly returns None.\n"
   ]
  },
  {
   "cell_type": "code",
   "execution_count": 9,
   "id": "e79a54a1",
   "metadata": {},
   "outputs": [],
   "source": [
    "## Let us write our very Simple function\n",
    "\n",
    "def power_function(x, y):\n",
    "    return x**y"
   ]
  },
  {
   "cell_type": "code",
   "execution_count": 10,
   "id": "acb14b62",
   "metadata": {},
   "outputs": [
    {
     "data": {
      "text/plain": [
       "81"
      ]
     },
     "execution_count": 10,
     "metadata": {},
     "output_type": "execute_result"
    }
   ],
   "source": [
    "power_function(3,4)"
   ]
  },
  {
   "cell_type": "code",
   "execution_count": 11,
   "id": "ff831c39",
   "metadata": {},
   "outputs": [],
   "source": [
    "def square(z):\n",
    "    if type(z)!= int: ## we can also check the z type by isintance(z, int)\n",
    "        print(\"invalid data type\")\n",
    "    else:\n",
    "        return z*z"
   ]
  },
  {
   "cell_type": "code",
   "execution_count": 12,
   "id": "80dcd237",
   "metadata": {},
   "outputs": [
    {
     "name": "stdout",
     "output_type": "stream",
     "text": [
      "invalid data type\n"
     ]
    }
   ],
   "source": [
    "square(\"a\")"
   ]
  },
  {
   "cell_type": "code",
   "execution_count": 13,
   "id": "53edd03a",
   "metadata": {},
   "outputs": [],
   "source": [
    "def addition(x): ## x could be any iterable\n",
    "    sum = 0\n",
    "    for i in x:\n",
    "        sum += i\n",
    "    return sum"
   ]
  },
  {
   "cell_type": "code",
   "execution_count": 14,
   "id": "9a3d14f5",
   "metadata": {},
   "outputs": [
    {
     "data": {
      "text/plain": [
       "12"
      ]
     },
     "execution_count": 14,
     "metadata": {},
     "output_type": "execute_result"
    }
   ],
   "source": [
    "addition({5,4,3})"
   ]
  },
  {
   "cell_type": "code",
   "execution_count": 15,
   "id": "909ed81b",
   "metadata": {},
   "outputs": [],
   "source": [
    "def average_function(y):\n",
    "    if not y:           ##take care of empty data structure\n",
    "        return None\n",
    "    sum = 0\n",
    "    for j in y:\n",
    "        sum += j\n",
    "    return sum/len(y)\n",
    "    "
   ]
  },
  {
   "cell_type": "code",
   "execution_count": 16,
   "id": "6e4e0b9d",
   "metadata": {},
   "outputs": [
    {
     "data": {
      "text/plain": [
       "0.5"
      ]
     },
     "execution_count": 16,
     "metadata": {},
     "output_type": "execute_result"
    }
   ],
   "source": [
    "average_function([1,4,2,-5])"
   ]
  },
  {
   "cell_type": "code",
   "execution_count": 17,
   "id": "03230e04",
   "metadata": {},
   "outputs": [],
   "source": [
    "def max_number(t): ## t could be any iterable\n",
    "    max = t[0]\n",
    "    for k in t:\n",
    "        if k > max:\n",
    "            max = k\n",
    "    return max"
   ]
  },
  {
   "cell_type": "code",
   "execution_count": 18,
   "id": "0d461b4a",
   "metadata": {},
   "outputs": [
    {
     "data": {
      "text/plain": [
       "40"
      ]
     },
     "execution_count": 18,
     "metadata": {},
     "output_type": "execute_result"
    }
   ],
   "source": [
    "max_number([-50, 40, -100])"
   ]
  },
  {
   "cell_type": "code",
   "execution_count": 19,
   "id": "ca41c490",
   "metadata": {},
   "outputs": [],
   "source": [
    "def min_number(q): ##q could be any iterable\n",
    "    min = 0\n",
    "    for p in q:\n",
    "        if p < min:\n",
    "            min = p\n",
    "    return min\n"
   ]
  },
  {
   "cell_type": "code",
   "execution_count": 20,
   "id": "ff8ab5ed",
   "metadata": {},
   "outputs": [],
   "source": [
    "## Our previous function took single parameter. Let us write a simple function that takes more than one argument.\n",
    "\n",
    "def within_range(num, min_number=5, max_number = 25): ## function to check whether the number is within range\n",
    "    if (num > min_number) and (num < max_number):\n",
    "        print(\"The number is within range\")\n",
    "    else:\n",
    "        print(\"The number is not within range\")\n",
    "    "
   ]
  },
  {
   "cell_type": "code",
   "execution_count": 21,
   "id": "4b06f10f",
   "metadata": {},
   "outputs": [
    {
     "name": "stdout",
     "output_type": "stream",
     "text": [
      "The number is within range\n"
     ]
    }
   ],
   "source": [
    "within_range(10, 5, 15)"
   ]
  },
  {
   "cell_type": "code",
   "execution_count": 22,
   "id": "66b18ad7",
   "metadata": {},
   "outputs": [],
   "source": [
    "def simple():\n",
    "    pass"
   ]
  },
  {
   "cell_type": "code",
   "execution_count": 23,
   "id": "7f20ed8f",
   "metadata": {},
   "outputs": [],
   "source": [
    "## Take home exercise:\n",
    "## Write a functions that check whether there is atleast one vowel in a word \n",
    "## Write a function that returns all even number in the list.\n",
    "## Write a function that return a list of True for even number and False for odd number.\n",
    "## Write a function that returns if there is any (atleast one) even number"
   ]
  },
  {
   "cell_type": "markdown",
   "id": "af30a585",
   "metadata": {},
   "source": [
    "### How to Pass arguments to functions in Python?\n",
    "\n",
    "Two methods of passing the arguments in Pythons function. Both methods produces the same result. Let us understand what is the difference between the two arguments passing method.\n",
    "\n",
    "- We can pass the argument by position.\n",
    "- We can pass the argument by keyword = value matching.\n"
   ]
  },
  {
   "cell_type": "markdown",
   "id": "47570ae7",
   "metadata": {},
   "source": [
    "### Passing the arguments by position: \n",
    "\n",
    "If you are calling the function by passing the **arguments by position**, **then the order of the arguments must match with the order of the parameters in the function definition**."
   ]
  },
  {
   "cell_type": "code",
   "execution_count": 24,
   "id": "71c87695",
   "metadata": {},
   "outputs": [
    {
     "name": "stdout",
     "output_type": "stream",
     "text": [
      "The number is not within range\n"
     ]
    }
   ],
   "source": [
    "within_range(10, 12, 25) ## order matters"
   ]
  },
  {
   "cell_type": "code",
   "execution_count": null,
   "id": "b158327a",
   "metadata": {},
   "outputs": [],
   "source": [
    "### Passing the arguments by Keyword = value matching"
   ]
  },
  {
   "cell_type": "markdown",
   "id": "75676251",
   "metadata": {},
   "source": [
    "### Passing the arguments by keyword = value matching\n",
    "If you are calling the function by passing the arguments by keyword-value matching, then you can pass the arguments in any order. The order of the arguments is not required to be the same as the order of parameters in the function definition. Passing the arguents by keyword = value is much more flexible than passing them positionally."
   ]
  },
  {
   "cell_type": "code",
   "execution_count": null,
   "id": "1f2deab9",
   "metadata": {},
   "outputs": [],
   "source": [
    "within_range(min_number = 12, num = 10, max_number = 25) \n",
    "within_range(num = 10, min_number = 12, max_number = 25) \n",
    "within_range(max_number = 25, num = 10, min_number = 12) \n",
    "\n",
    "## All these function calls are same"
   ]
  },
  {
   "cell_type": "markdown",
   "id": "f19db3bc",
   "metadata": {},
   "source": [
    "**Explore default parameters**: If any parameter has default argument, then it is not required argument. you must pass the\n",
    "required arguments to call the function otherwise function would not work properly."
   ]
  },
  {
   "cell_type": "markdown",
   "id": "f76c87aa",
   "metadata": {},
   "source": [
    "We will explore the mutability of parameters in the next lecture. Very very important concept. Pass-by-value versus Pass-by-reference."
   ]
  },
  {
   "cell_type": "markdown",
   "id": "cca1ba8e",
   "metadata": {},
   "source": [
    "### Writing functions with variable length arguments"
   ]
  },
  {
   "cell_type": "markdown",
   "id": "2fc98923",
   "metadata": {},
   "source": [
    "Why do you want to write functions with variable-length argument? sometimes we don't know in advance how many arguments the function users will provide in advance."
   ]
  },
  {
   "cell_type": "markdown",
   "id": "3b5f18a5",
   "metadata": {},
   "source": [
    "### Argument tuple packing\n",
    "When a parameter name in a Python function definition is preceded by an asterisk (*), it indicates argument tuple packing. Any corresponding arguments in the function call are packed into a tuple that the function can refer to by the given parameter name."
   ]
  },
  {
   "cell_type": "code",
   "execution_count": null,
   "id": "9feca113",
   "metadata": {},
   "outputs": [],
   "source": [
    "def f(*args):\n",
    "    print(args)\n",
    "    print(type(args), len(args))\n",
    "    for x in args:\n",
    "        print(x)\n",
    "        \n"
   ]
  },
  {
   "cell_type": "code",
   "execution_count": null,
   "id": "7bd5c73f",
   "metadata": {},
   "outputs": [],
   "source": [
    "f(1,2,3)"
   ]
  },
  {
   "cell_type": "code",
   "execution_count": null,
   "id": "a2cbbe33",
   "metadata": {},
   "outputs": [],
   "source": [
    "\n",
    "## The function below will let you compute the average of variable numbers\n",
    "def variable_number_avg(*args): ## *args means you can pass any number of positional arguments when call this function\n",
    "    sum = 0\n",
    "    for k in args:\n",
    "        sum += k\n",
    "    return sum/len(args)"
   ]
  },
  {
   "cell_type": "code",
   "execution_count": null,
   "id": "0f9dedf0",
   "metadata": {},
   "outputs": [],
   "source": [
    "variable_number_avg(5, 6, 7, 8, 10, 12, 13)"
   ]
  },
  {
   "cell_type": "markdown",
   "id": "3eab4ccd",
   "metadata": {},
   "source": [
    "### Dictionary packing\n",
    "\n",
    "What if you want to write a function with **variable number** of keyword argument? Sometimes you write function and you dont know in advance how many keyword = value pairs will be passed by the user"
   ]
  },
  {
   "cell_type": "code",
   "execution_count": null,
   "id": "81e1ea5d",
   "metadata": {},
   "outputs": [],
   "source": [
    " def f(**kwargs):\n",
    "        print(kwargs) ## packed all key-value pairs into the dictionary\n",
    "        print(type(kwargs))\n",
    "        for key, val in kwargs.items():\n",
    "            print(key, '->', val)"
   ]
  },
  {
   "cell_type": "code",
   "execution_count": null,
   "id": "65e60228",
   "metadata": {},
   "outputs": [],
   "source": [
    "f(foo=1, bar=2, cindy = 5, dog = 6)"
   ]
  },
  {
   "cell_type": "code",
   "execution_count": null,
   "id": "c9335ef5",
   "metadata": {},
   "outputs": [],
   "source": [
    "personal= {\"name\" : \"Andy\", \"age\": 15, \"education\": \"PhD\"}"
   ]
  },
  {
   "cell_type": "code",
   "execution_count": null,
   "id": "1e1ec4df",
   "metadata": {},
   "outputs": [],
   "source": [
    "for k, j in personal.items():\n",
    "    print(k,\"j)"
   ]
  },
  {
   "cell_type": "code",
   "execution_count": null,
   "id": "6c0fa8bc",
   "metadata": {},
   "outputs": [],
   "source": [
    "list(personal.items())"
   ]
  },
  {
   "cell_type": "code",
   "execution_count": null,
   "id": "02543081",
   "metadata": {},
   "outputs": [],
   "source": [
    "def calculate_total_price(**kwargs):\n",
    "    total_price = 0\n",
    "    for item, price in kwargs.items():\n",
    "        total_price += price\n",
    "    return total_price\n"
   ]
  },
  {
   "cell_type": "code",
   "execution_count": null,
   "id": "7faddd15",
   "metadata": {},
   "outputs": [],
   "source": [
    "result = calculate_total_price(apple=1.50, banana=0.75, guava = 250)\n",
    "print(result)"
   ]
  },
  {
   "cell_type": "markdown",
   "id": "4b39cbe5",
   "metadata": {},
   "source": [
    "## Anonymous functions (lambda functions)\n",
    "Anonymous functions, also known as lambda functions in Python, are functions that are defined without a name.  Anonymous functions allow us to write small, single-purpose functions in a compact and readable manner. It is not worth giving name to these functions.They are one-line throwaway functions. Sometimes we want to pass a function as an argument to another function. In those cases, we usually pass anonymous function to these higher-order functions like map(), filter()."
   ]
  },
  {
   "cell_type": "code",
   "execution_count": null,
   "id": "5c02816a",
   "metadata": {},
   "outputs": [],
   "source": [
    "## We define the lambda functions differently than the traditional function."
   ]
  },
  {
   "cell_type": "markdown",
   "id": "6101833c",
   "metadata": {},
   "source": [
    "Syntax of lambada functions\n",
    "\n",
    "**lambda arguments: expression**\n",
    "\n",
    "We define anonymous function with lambda keyword followed by the argument(s). If we more than one argument, then they are separated by commas. After the colon is an expression that we want to return from the lambda function. Remember we dont use return keyword to return the expression.\n"
   ]
  },
  {
   "cell_type": "code",
   "execution_count": null,
   "id": "c86f9def",
   "metadata": {},
   "outputs": [],
   "source": [
    "square1= lambda x: x**2  ##(single argument lambda function)"
   ]
  },
  {
   "cell_type": "code",
   "execution_count": null,
   "id": "b6049c7a",
   "metadata": {},
   "outputs": [],
   "source": [
    "square1(5)"
   ]
  },
  {
   "cell_type": "code",
   "execution_count": null,
   "id": "89ad7df8",
   "metadata": {},
   "outputs": [],
   "source": [
    "pow_function = lambda x, y : x**y ## (two argument power function)"
   ]
  },
  {
   "cell_type": "code",
   "execution_count": null,
   "id": "629d01cd",
   "metadata": {},
   "outputs": [],
   "source": [
    "pow_function(2,3)"
   ]
  },
  {
   "cell_type": "code",
   "execution_count": null,
   "id": "d9d5a3dd",
   "metadata": {},
   "outputs": [],
   "source": [
    "map()"
   ]
  },
  {
   "cell_type": "code",
   "execution_count": null,
   "id": "da36df33",
   "metadata": {},
   "outputs": [],
   "source": [
    " def my_square(x):\n",
    "        return x*x"
   ]
  },
  {
   "cell_type": "code",
   "execution_count": null,
   "id": "ce0c1dc1",
   "metadata": {},
   "outputs": [],
   "source": [
    "tup1 = (1,2,7,4,5,6)\n",
    "\n",
    "## What does the map function do? What are the arguments taken by map() function? One of the arguments of map() function is\n",
    "## a function. We can pass anonymous function or named function to map. But usually we pass throwaway lambada function to \n",
    "## map function.\n",
    "list(map(lambda x: x**3, tup1))"
   ]
  },
  {
   "cell_type": "code",
   "execution_count": null,
   "id": "d8b72c06",
   "metadata": {},
   "outputs": [],
   "source": []
  },
  {
   "cell_type": "code",
   "execution_count": null,
   "id": "e311a961",
   "metadata": {},
   "outputs": [],
   "source": [
    "list(map(type, tup1))"
   ]
  },
  {
   "cell_type": "code",
   "execution_count": null,
   "id": "720791e8",
   "metadata": {},
   "outputs": [],
   "source": [
    "def my_cube(x):\n",
    "    return x*x*x"
   ]
  },
  {
   "cell_type": "code",
   "execution_count": null,
   "id": "3fda3224",
   "metadata": {},
   "outputs": [],
   "source": [
    "list1 = [1,2,7,4,5,6]\n",
    "list_of_powers =[5,4,3,2,1,0]\n",
    "third_list = [2,2,2,2,2,3]\n",
    "\n",
    "list(map(lambda x, y,z :y*x*z, list1, list_of_powers, third_list))"
   ]
  },
  {
   "cell_type": "code",
   "execution_count": null,
   "id": "2a851f23",
   "metadata": {},
   "outputs": [],
   "source": [
    "ls1 = [1,2,3]\n",
    "ls2 = [3,2,1]\n",
    "ls3 = [4,5,6]\n",
    "\n",
    "## How will you multiply the numbers at the corresponding positions in the above three lists? Do it using map and lambada \n",
    "## functions"
   ]
  },
  {
   "cell_type": "code",
   "execution_count": null,
   "id": "204d4865",
   "metadata": {},
   "outputs": [],
   "source": [
    "## map() is not the only funciton that takes function as an argument. There are other functions in python that takes function\n",
    "## as an argument to the function. For instance, filter()\n",
    "\n",
    "##The filter() function in Python is a built-in function that allows you to filter elements from an iterable based on a \n",
    "## specified condition. It takes two arguments: a function and an iterable. The function is applied to each element in the\n",
    "##iterable, and only the elements for which the function returns True are included in the result.\n"
   ]
  },
  {
   "cell_type": "code",
   "execution_count": null,
   "id": "58b4bb35",
   "metadata": {},
   "outputs": [],
   "source": [
    "filter()"
   ]
  },
  {
   "cell_type": "code",
   "execution_count": null,
   "id": "4efb3ba8",
   "metadata": {},
   "outputs": [],
   "source": [
    "even_odd_list = [5, 4, 3, 2, 8, 25, 27, 30, 32]\n",
    "\n",
    "list(filter(lambda x: x%2==0, even_odd_list))"
   ]
  },
  {
   "cell_type": "markdown",
   "id": "4ef65beb",
   "metadata": {},
   "source": [
    "### Writing our own functions that takes function as one of arguments"
   ]
  },
  {
   "cell_type": "code",
   "execution_count": null,
   "id": "e86c68bd",
   "metadata": {},
   "outputs": [],
   "source": [
    "## Let us write our own function that takes function as an argument\n",
    "\n",
    "def my_map(func, iterable):\n",
    "    result = []\n",
    "    for i in iterable:\n",
    "        result.append(func(i))\n",
    "    return result\n",
    "        \n",
    "my_map(lambda z: z*z, [1,2,3, 4])"
   ]
  },
  {
   "cell_type": "code",
   "execution_count": null,
   "id": "ff82f3a0",
   "metadata": {},
   "outputs": [],
   "source": [
    "## Let us write\n",
    "def my_filter(func, iterable):\n",
    "    result = []\n",
    "    for i in iterable:\n",
    "        if func(i):\n",
    "            result.append(i)\n",
    "    return result\n",
    "\n",
    "my_filter(lambda x: x%2==0, [1, 2, 7, 6, 9, 8]) ## Note you dont need to wrap it in the list"
   ]
  },
  {
   "cell_type": "markdown",
   "id": "9a2d209e",
   "metadata": {},
   "source": [
    "### Pass-by-value vs Pass-by-reference\n",
    "\n",
    "- What would happen to the arguments outside the Python function once we pass them to the function? Do the values of the arguments get modified or not?\n",
    "\n",
    "**Pass-by-value**: In pass-by-value, a **copy** of the value of the argument is passed to the function. **This means that any modifications made to the argument inside the function do not affect the original value outside the function**. It's like giving someone a photocopy of a document while keeping the original safe with you. Changes made to the photocopy don't impact the original document.\n",
    "\n",
    "**Pass-by-reference**: In pass-by-reference, a reference to the memory location of the argument is passed to the function. **This means that any modifications made to the argument inside the function directly affect the original value outside the function**. It's like giving someone direct access to the original document, allowing them to make changes that will be reflected in the original.\n",
    "\n",
    "**In simple terms, pass-by-value is like passing a copy, while pass-by-reference is like passing the original itself**\n",
    "\n",
    "Whether the objects are passed by reference or passed by value in Python's function depends on the mutability of the object.The behavior of pass by value and pass by reference in Python is influenced by the mutability of objects. Mutable objects can be modified, while immutable objects cannot be changed after they are created. In other words, we pass the mutable arguments by reference to Python's function and we pass the immutable arguments to Python's function by copy."
   ]
  },
  {
   "cell_type": "markdown",
   "id": "e4b43435",
   "metadata": {},
   "source": [
    "### Pass-by-reference\n",
    "Let us pass a mutable object, such as a Python list, as an argument to a Python function. What would happen to the Python list outside the function that we passed as an argument and modified inside the function's body?"
   ]
  },
  {
   "cell_type": "code",
   "execution_count": null,
   "id": "377fc52e",
   "metadata": {},
   "outputs": [],
   "source": [
    "def append_item(lst):\n",
    "    lst.append(4)\n",
    "    print(\"Inside the function:\", lst)\n",
    "\n",
    "my_list = [1, 2, 3]  ## This is the list outside the Python's function before we have passed it to the function\n",
    "append_item(my_list)\n",
    "print(\"Outside the function:\", my_list)\n"
   ]
  },
  {
   "cell_type": "markdown",
   "id": "a4401a30",
   "metadata": {},
   "source": [
    "### Pass-by-value\n",
    "\n",
    "Let us pass immutable object, such as Python string as an argument to Python function. What would happen to the Python string\n",
    "outside the function that we passed as an argument and modified inside the function's body?"
   ]
  },
  {
   "cell_type": "code",
   "execution_count": null,
   "id": "6c59b0a5",
   "metadata": {},
   "outputs": [],
   "source": [
    "def modify_string(string):\n",
    "    string += \" World!\"\n",
    "    print(\"Inside the function:\", string)\n",
    "\n",
    "my_string = \"Hello\"\n",
    "modify_string(my_string)\n",
    "print(\"Outside the function:\", my_string)\n"
   ]
  },
  {
   "cell_type": "code",
   "execution_count": null,
   "id": "97580b32",
   "metadata": {},
   "outputs": [],
   "source": [
    "## What if you are passing a mutable object as an argument to a Python function and modifying it inside the function's body, \n",
    "## but ##you don't want this object to be modified outside the function's body?\n",
    "\n",
    "def append_item(lst):\n",
    "    lst.append(\"Python\")\n",
    "    print(\"Inside the function:\", lst)\n",
    "\n",
    "prog_list = [\"Java\", \"R\", \"Netlogo\"]  ## This is the list outside the Python's function before we have passed it to the function\n",
    "append_item(prog_list.copy()) ## you can pass a copy of the mutable oject. It won't get modified outside the function even though it is modified inside the function\n",
    "print(\"Outside the function:\", prog_list)"
   ]
  }
 ],
 "metadata": {
  "kernelspec": {
   "display_name": "Python 3 (ipykernel)",
   "language": "python",
   "name": "python3"
  },
  "language_info": {
   "codemirror_mode": {
    "name": "ipython",
    "version": 3
   },
   "file_extension": ".py",
   "mimetype": "text/x-python",
   "name": "python",
   "nbconvert_exporter": "python",
   "pygments_lexer": "ipython3",
   "version": "3.10.11"
  }
 },
 "nbformat": 4,
 "nbformat_minor": 5
}
